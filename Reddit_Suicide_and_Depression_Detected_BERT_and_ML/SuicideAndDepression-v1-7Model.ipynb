{
 "cells": [
  {
   "cell_type": "code",
   "execution_count": 3,
   "id": "69da0edc",
   "metadata": {},
   "outputs": [
    {
     "name": "stdout",
     "output_type": "stream",
     "text": [
      "Requirement already satisfied: transformers in c:\\users\\hepsibtc\\anaconda3\\lib\\site-packages (4.32.1)\n",
      "Requirement already satisfied: filelock in c:\\users\\hepsibtc\\anaconda3\\lib\\site-packages (from transformers) (3.9.0)\n",
      "Requirement already satisfied: huggingface-hub<1.0,>=0.15.1 in c:\\users\\hepsibtc\\anaconda3\\lib\\site-packages (from transformers) (0.15.1)\n",
      "Requirement already satisfied: numpy>=1.17 in c:\\users\\hepsibtc\\anaconda3\\lib\\site-packages (from transformers) (1.24.3)\n",
      "Requirement already satisfied: packaging>=20.0 in c:\\users\\hepsibtc\\anaconda3\\lib\\site-packages (from transformers) (23.1)\n",
      "Requirement already satisfied: pyyaml>=5.1 in c:\\users\\hepsibtc\\anaconda3\\lib\\site-packages (from transformers) (6.0)\n",
      "Requirement already satisfied: regex!=2019.12.17 in c:\\users\\hepsibtc\\anaconda3\\lib\\site-packages (from transformers) (2022.7.9)\n",
      "Requirement already satisfied: requests in c:\\users\\hepsibtc\\anaconda3\\lib\\site-packages (from transformers) (2.31.0)\n",
      "Requirement already satisfied: tokenizers!=0.11.3,<0.14,>=0.11.1 in c:\\users\\hepsibtc\\anaconda3\\lib\\site-packages (from transformers) (0.13.2)\n",
      "Requirement already satisfied: safetensors>=0.3.1 in c:\\users\\hepsibtc\\anaconda3\\lib\\site-packages (from transformers) (0.3.2)\n",
      "Requirement already satisfied: tqdm>=4.27 in c:\\users\\hepsibtc\\anaconda3\\lib\\site-packages (from transformers) (4.65.0)\n",
      "Requirement already satisfied: fsspec in c:\\users\\hepsibtc\\anaconda3\\lib\\site-packages (from huggingface-hub<1.0,>=0.15.1->transformers) (2023.4.0)\n",
      "Requirement already satisfied: typing-extensions>=3.7.4.3 in c:\\users\\hepsibtc\\anaconda3\\lib\\site-packages (from huggingface-hub<1.0,>=0.15.1->transformers) (4.11.0)\n",
      "Requirement already satisfied: colorama in c:\\users\\hepsibtc\\anaconda3\\lib\\site-packages (from tqdm>=4.27->transformers) (0.4.6)\n",
      "Requirement already satisfied: charset-normalizer<4,>=2 in c:\\users\\hepsibtc\\anaconda3\\lib\\site-packages (from requests->transformers) (2.0.4)\n",
      "Requirement already satisfied: idna<4,>=2.5 in c:\\users\\hepsibtc\\anaconda3\\lib\\site-packages (from requests->transformers) (3.4)\n",
      "Requirement already satisfied: urllib3<3,>=1.21.1 in c:\\users\\hepsibtc\\anaconda3\\lib\\site-packages (from requests->transformers) (1.26.16)\n",
      "Requirement already satisfied: certifi>=2017.4.17 in c:\\users\\hepsibtc\\anaconda3\\lib\\site-packages (from requests->transformers) (2024.2.2)\n"
     ]
    }
   ],
   "source": [
    "!pip3 install transformers"
   ]
  },
  {
   "cell_type": "code",
   "execution_count": 4,
   "id": "798a40e2",
   "metadata": {},
   "outputs": [
    {
     "name": "stderr",
     "output_type": "stream",
     "text": [
      "C:\\Users\\HepsiBTC\\anaconda3\\Lib\\site-packages\\transformers\\utils\\generic.py:260: UserWarning: torch.utils._pytree._register_pytree_node is deprecated. Please use torch.utils._pytree.register_pytree_node instead.\n",
      "  torch.utils._pytree._register_pytree_node(\n",
      "C:\\Users\\HepsiBTC\\anaconda3\\Lib\\site-packages\\transformers\\utils\\generic.py:260: UserWarning: torch.utils._pytree._register_pytree_node is deprecated. Please use torch.utils._pytree.register_pytree_node instead.\n",
      "  torch.utils._pytree._register_pytree_node(\n"
     ]
    }
   ],
   "source": [
    "import pandas as pd\n",
    "import numpy as np\n",
    "from sklearn.metrics import accuracy_score, precision_recall_fscore_support, classification_report\n",
    "from sklearn.feature_extraction.text import TfidfVectorizer\n",
    "from transformers import BertForSequenceClassification, BertTokenizerFast\n",
    "from transformers import Trainer, TrainingArguments\n",
    "%matplotlib inline\n",
    "import matplotlib.pyplot as plt\n",
    "import seaborn as sns\n",
    "from matplotlib import ticker"
   ]
  },
  {
   "cell_type": "code",
   "execution_count": 5,
   "id": "cac46ecf",
   "metadata": {},
   "outputs": [
    {
     "data": {
      "text/html": [
       "<div>\n",
       "<style scoped>\n",
       "    .dataframe tbody tr th:only-of-type {\n",
       "        vertical-align: middle;\n",
       "    }\n",
       "\n",
       "    .dataframe tbody tr th {\n",
       "        vertical-align: top;\n",
       "    }\n",
       "\n",
       "    .dataframe thead th {\n",
       "        text-align: right;\n",
       "    }\n",
       "</style>\n",
       "<table border=\"1\" class=\"dataframe\">\n",
       "  <thead>\n",
       "    <tr style=\"text-align: right;\">\n",
       "      <th></th>\n",
       "      <th>Unnamed: 0</th>\n",
       "      <th>text</th>\n",
       "      <th>class</th>\n",
       "    </tr>\n",
       "  </thead>\n",
       "  <tbody>\n",
       "    <tr>\n",
       "      <th>0</th>\n",
       "      <td>2</td>\n",
       "      <td>Ex Wife Threatening SuicideRecently I left my ...</td>\n",
       "      <td>suicide</td>\n",
       "    </tr>\n",
       "    <tr>\n",
       "      <th>1</th>\n",
       "      <td>3</td>\n",
       "      <td>Am I weird I don't get affected by compliments...</td>\n",
       "      <td>non-suicide</td>\n",
       "    </tr>\n",
       "    <tr>\n",
       "      <th>2</th>\n",
       "      <td>4</td>\n",
       "      <td>Finally 2020 is almost over... So I can never ...</td>\n",
       "      <td>non-suicide</td>\n",
       "    </tr>\n",
       "    <tr>\n",
       "      <th>3</th>\n",
       "      <td>8</td>\n",
       "      <td>i need helpjust help me im crying so hard</td>\n",
       "      <td>suicide</td>\n",
       "    </tr>\n",
       "    <tr>\n",
       "      <th>4</th>\n",
       "      <td>9</td>\n",
       "      <td>I’m so lostHello, my name is Adam (16) and I’v...</td>\n",
       "      <td>suicide</td>\n",
       "    </tr>\n",
       "  </tbody>\n",
       "</table>\n",
       "</div>"
      ],
      "text/plain": [
       "   Unnamed: 0                                               text        class\n",
       "0           2  Ex Wife Threatening SuicideRecently I left my ...      suicide\n",
       "1           3  Am I weird I don't get affected by compliments...  non-suicide\n",
       "2           4  Finally 2020 is almost over... So I can never ...  non-suicide\n",
       "3           8          i need helpjust help me im crying so hard      suicide\n",
       "4           9  I’m so lostHello, my name is Adam (16) and I’v...      suicide"
      ]
     },
     "execution_count": 5,
     "metadata": {},
     "output_type": "execute_result"
    }
   ],
   "source": [
    "# veri setini import işlemi\n",
    "import pandas as pd\n",
    "dataframe = pd.read_csv('Suicide_Detection.csv')\n",
    "dataframe.head()"
   ]
  },
  {
   "cell_type": "code",
   "execution_count": 6,
   "id": "a8652ec7",
   "metadata": {},
   "outputs": [
    {
     "data": {
      "text/plain": [
       "((116037, 3), (116037, 3))"
      ]
     },
     "execution_count": 6,
     "metadata": {},
     "output_type": "execute_result"
    }
   ],
   "source": [
    "# Bu komutlar, veriyi sınıflarına göre ayırır ve her bir sınıfın boyutunu kontrol etmenizi sağlar.\n",
    "suicide = dataframe[dataframe['class']=='suicide']\n",
    "non_suicide = dataframe[dataframe['class']=='non-suicide']\n",
    "suicide.shape, non_suicide.shape"
   ]
  },
  {
   "cell_type": "code",
   "execution_count": 21,
   "id": "bb5e6f71",
   "metadata": {},
   "outputs": [
    {
     "data": {
      "text/plain": [
       "(60000, 3)"
      ]
     },
     "execution_count": 21,
     "metadata": {},
     "output_type": "execute_result"
    }
   ],
   "source": [
    "# Bu komutlar, veri setini dengeli hale getirmek için her iki sınıftan eşit sayıda örnek alır ve \n",
    "# yeni birleştirilmiş bir veri seti oluşturur.\n",
    "suicide = suicide.head(30000)\n",
    "non_suicide = non_suicide.head(30000)\n",
    "dataframe = pd.concat([suicide,non_suicide])\n",
    "dataframe.shape"
   ]
  },
  {
   "cell_type": "code",
   "execution_count": 22,
   "id": "613c124a",
   "metadata": {},
   "outputs": [
    {
     "name": "stdout",
     "output_type": "stream",
     "text": [
      "<class 'pandas.core.frame.DataFrame'>\n",
      "Index: 60000 entries, 0 to 59826\n",
      "Data columns (total 3 columns):\n",
      " #   Column      Non-Null Count  Dtype \n",
      "---  ------      --------------  ----- \n",
      " 0   Unnamed: 0  60000 non-null  int64 \n",
      " 1   text        60000 non-null  object\n",
      " 2   class       60000 non-null  object\n",
      "dtypes: int64(1), object(2)\n",
      "memory usage: 1.8+ MB\n"
     ]
    }
   ],
   "source": [
    "dataframe.info()"
   ]
  },
  {
   "cell_type": "code",
   "execution_count": 23,
   "id": "792532bb",
   "metadata": {},
   "outputs": [
    {
     "data": {
      "text/plain": [
       "Unnamed: 0    0\n",
       "text          0\n",
       "class         0\n",
       "dtype: int64"
      ]
     },
     "execution_count": 23,
     "metadata": {},
     "output_type": "execute_result"
    }
   ],
   "source": [
    "# text ve class sütunlarında hiç eksik değer olmadığını gösterir. \n",
    "dataframe.isnull().sum()"
   ]
  },
  {
   "cell_type": "markdown",
   "id": "2ddd6e2b",
   "metadata": {},
   "source": [
    "### ön işleme"
   ]
  },
  {
   "cell_type": "code",
   "execution_count": 24,
   "id": "45a8258f",
   "metadata": {},
   "outputs": [
    {
     "name": "stdout",
     "output_type": "stream",
     "text": [
      "Requirement already satisfied: autocorrect in c:\\users\\hepsibtc\\anaconda3\\lib\\site-packages (2.6.1)\n",
      "Requirement already satisfied: unidecode in c:\\users\\hepsibtc\\anaconda3\\lib\\site-packages (1.2.0)\n",
      "Requirement already satisfied: contractions in c:\\users\\hepsibtc\\anaconda3\\lib\\site-packages (0.1.73)\n",
      "Requirement already satisfied: textsearch>=0.0.21 in c:\\users\\hepsibtc\\anaconda3\\lib\\site-packages (from contractions) (0.0.24)\n",
      "Requirement already satisfied: anyascii in c:\\users\\hepsibtc\\anaconda3\\lib\\site-packages (from textsearch>=0.0.21->contractions) (0.3.2)\n",
      "Requirement already satisfied: pyahocorasick in c:\\users\\hepsibtc\\anaconda3\\lib\\site-packages (from textsearch>=0.0.21->contractions) (2.1.0)\n"
     ]
    }
   ],
   "source": [
    "import re\n",
    "!pip install autocorrect\n",
    "from autocorrect import Speller\n",
    "!pip install unidecode\n",
    "import unidecode\n",
    "!pip install contractions\n",
    "import contractions\n",
    "from string import punctuation"
   ]
  },
  {
   "cell_type": "code",
   "execution_count": 25,
   "id": "b73ccaf9",
   "metadata": {},
   "outputs": [],
   "source": [
    "def text_cleaning(text):\n",
    "    # Gönderilen metni küçük harfe dönüştürür\n",
    "    text = text.lower()\n",
    "\n",
    "    # Metinden tüm HTML etiketlerini temizler.\n",
    "    html_pattern = r'<.*?>'\n",
    "    text = re.sub(pattern=html_pattern, repl=' ', string=text)\n",
    "\n",
    "    # Metinden tüm URL'leri temizler.\n",
    "    url_pattern = r'https?://\\S+|www\\.\\S+'\n",
    "    text = re.sub(pattern=url_pattern, repl=' ', string=text)\n",
    "\n",
    "    # Metinden tüm rakamları temizler.\n",
    "    number_pattern = r'\\d+'\n",
    "    text = re.sub(pattern=number_pattern, repl=' ', string=text)\n",
    "\n",
    "    # Unicode karakterlerini ASCII karakterlere dönüştürür.\n",
    "    text = unidecode.unidecode(text)\n",
    "\n",
    "    # Kısaltmaları genişleterek tam kelimeler haline getirir.\n",
    "    text = contractions.fix(text)\n",
    "\n",
    "    # Noktalama işaretlerini kaldırır.\n",
    "    text = text.translate(str.maketrans('', '', punctuation))\n",
    "\n",
    "    # Tek harfli kelimeleri kaldırır.\n",
    "    single_char_pattern = r'\\s+[a-zA-Z]\\s+'\n",
    "    text = re.sub(pattern=single_char_pattern, repl=\" \", string=text)\n",
    "\n",
    "    # Ekstra boşlukları kaldırır.\n",
    "    space_pattern = r'\\s+'\n",
    "    text = re.sub(pattern=space_pattern, repl=\" \", string=text)\n",
    "\n",
    "    return text"
   ]
  },
  {
   "cell_type": "code",
   "execution_count": 27,
   "id": "954a2f7d",
   "metadata": {},
   "outputs": [
    {
     "data": {
      "text/html": [
       "<div>\n",
       "<style scoped>\n",
       "    .dataframe tbody tr th:only-of-type {\n",
       "        vertical-align: middle;\n",
       "    }\n",
       "\n",
       "    .dataframe tbody tr th {\n",
       "        vertical-align: top;\n",
       "    }\n",
       "\n",
       "    .dataframe thead th {\n",
       "        text-align: right;\n",
       "    }\n",
       "</style>\n",
       "<table border=\"1\" class=\"dataframe\">\n",
       "  <thead>\n",
       "    <tr style=\"text-align: right;\">\n",
       "      <th></th>\n",
       "      <th>Unnamed: 0</th>\n",
       "      <th>text</th>\n",
       "      <th>class</th>\n",
       "    </tr>\n",
       "  </thead>\n",
       "  <tbody>\n",
       "    <tr>\n",
       "      <th>0</th>\n",
       "      <td>2</td>\n",
       "      <td>ex wife threatening suiciderecently left my wi...</td>\n",
       "      <td>suicide</td>\n",
       "    </tr>\n",
       "    <tr>\n",
       "      <th>3</th>\n",
       "      <td>8</td>\n",
       "      <td>i need helpjust help me am crying so hard</td>\n",
       "      <td>suicide</td>\n",
       "    </tr>\n",
       "    <tr>\n",
       "      <th>4</th>\n",
       "      <td>9</td>\n",
       "      <td>i am so losthello my name is adam and have bee...</td>\n",
       "      <td>suicide</td>\n",
       "    </tr>\n",
       "    <tr>\n",
       "      <th>5</th>\n",
       "      <td>11</td>\n",
       "      <td>honetly idki do not know what am even doing he...</td>\n",
       "      <td>suicide</td>\n",
       "    </tr>\n",
       "    <tr>\n",
       "      <th>6</th>\n",
       "      <td>12</td>\n",
       "      <td>trigger warning excuse for self inflicted burn...</td>\n",
       "      <td>suicide</td>\n",
       "    </tr>\n",
       "    <tr>\n",
       "      <th>...</th>\n",
       "      <td>...</td>\n",
       "      <td>...</td>\n",
       "      <td>...</td>\n",
       "    </tr>\n",
       "    <tr>\n",
       "      <th>193</th>\n",
       "      <td>283</td>\n",
       "      <td>the cold sore did me inlet me prefix this with...</td>\n",
       "      <td>suicide</td>\n",
       "    </tr>\n",
       "    <tr>\n",
       "      <th>194</th>\n",
       "      <td>284</td>\n",
       "      <td>cannot shake the suicidal ideationive struggle...</td>\n",
       "      <td>suicide</td>\n",
       "    </tr>\n",
       "    <tr>\n",
       "      <th>195</th>\n",
       "      <td>285</td>\n",
       "      <td>can somebody talk to methere is shit in my lif...</td>\n",
       "      <td>suicide</td>\n",
       "    </tr>\n",
       "    <tr>\n",
       "      <th>196</th>\n",
       "      <td>287</td>\n",
       "      <td>police visit ukthrowaway due to obvious reason...</td>\n",
       "      <td>suicide</td>\n",
       "    </tr>\n",
       "    <tr>\n",
       "      <th>197</th>\n",
       "      <td>288</td>\n",
       "      <td>i am fucked all of this is an illusioni have r...</td>\n",
       "      <td>suicide</td>\n",
       "    </tr>\n",
       "  </tbody>\n",
       "</table>\n",
       "<p>100 rows × 3 columns</p>\n",
       "</div>"
      ],
      "text/plain": [
       "     Unnamed: 0                                               text    class\n",
       "0             2  ex wife threatening suiciderecently left my wi...  suicide\n",
       "3             8          i need helpjust help me am crying so hard  suicide\n",
       "4             9  i am so losthello my name is adam and have bee...  suicide\n",
       "5            11  honetly idki do not know what am even doing he...  suicide\n",
       "6            12  trigger warning excuse for self inflicted burn...  suicide\n",
       "..          ...                                                ...      ...\n",
       "193         283  the cold sore did me inlet me prefix this with...  suicide\n",
       "194         284  cannot shake the suicidal ideationive struggle...  suicide\n",
       "195         285  can somebody talk to methere is shit in my lif...  suicide\n",
       "196         287  police visit ukthrowaway due to obvious reason...  suicide\n",
       "197         288  i am fucked all of this is an illusioni have r...  suicide\n",
       "\n",
       "[100 rows x 3 columns]"
      ]
     },
     "execution_count": 27,
     "metadata": {},
     "output_type": "execute_result"
    }
   ],
   "source": [
    "dataframe['text'] = dataframe['text'].apply(text_cleaning)\n",
    "dataframe.head(100)"
   ]
  },
  {
   "cell_type": "code",
   "execution_count": 28,
   "id": "3afec89c",
   "metadata": {},
   "outputs": [
    {
     "name": "stderr",
     "output_type": "stream",
     "text": [
      "[nltk_data] Downloading package stopwords to\n",
      "[nltk_data]     C:\\Users\\HepsiBTC\\AppData\\Roaming\\nltk_data...\n",
      "[nltk_data]   Package stopwords is already up-to-date!\n",
      "[nltk_data] Downloading package punkt to\n",
      "[nltk_data]     C:\\Users\\HepsiBTC\\AppData\\Roaming\\nltk_data...\n",
      "[nltk_data]   Package punkt is already up-to-date!\n"
     ]
    }
   ],
   "source": [
    "import nltk\n",
    "from nltk.corpus import stopwords\n",
    "from nltk.tokenize import word_tokenize \n",
    "nltk.download('stopwords')\n",
    "nltk.download('punkt')\n",
    "lists = stopwords.words('english')"
   ]
  },
  {
   "cell_type": "code",
   "execution_count": 29,
   "id": "38930aa8",
   "metadata": {},
   "outputs": [],
   "source": [
    "stopwords_list = ['i', 'am', 'is','are','this','that','then','those','have','has','it','can','could','the','had','was','were','been','them',\n",
    "                  'what','whose','whom','who','do','did','does' 'yet', 'though', 'wherein', 'really', 'show', 'then', 'rather', 'same', 'con', 'call', 'is', 'twenty', 'side', 'go', 'namely',\n",
    "                  'every', 'top', 'for', \"'m\", 'with', 'either', 'because', 'two', 'well', 'when', 'those', 'under', 'thin', 'amount', 'upon', \n",
    "                  'kg', 'the', \"that'll\", 'ca', 'even', 'very', 'into', 'by', '‘m', 'keep', 'although', 'done', 'bottom', 'detail', 'whatever', \n",
    "                  'from', 'formerly', 'these', 'enough', 'twelve', 'of', 'too', 'already', 'move', 'something', 'few', 'nothing', 'they', 'does',\n",
    "                  'us', 'next', 'cry', 'but', 'eight', '‘s', 'however', 'four', \"'ll\", 'has', 'over', 'someone', 'afterwards', 'myself', 'have',\n",
    "                  'would', 'anywhere', 'hereupon', 'using', 'everything', 'his', 'put', 'many', 'more', 'within', 'which', 'describe', 'thereby',\n",
    "                  'nine', 'elsewhere', 'other', 'he', 'if', 'per', 'your', 's', 'be', 'than', 'now', 'sometime', 'herein', 'why', '‘d', 'whereas',\n",
    "                  'behind', 'couldnt', 'de', \"'re\", 'least', 'latter', 'whereafter', 'part', 'after', 'front', 'interest', \"you'd\", 'whose', 'fire',\n",
    "                  'sincere', 'down', 'to', 'whence', 'ours', \"'s\", 'all', 'noone', 'just', 'anyhow', 'ie', 'having', 'her', 'been', 'get', 'former', \n",
    "                  'throughout', 'above', '’d', 'cannot', 'almost', 'do', 'quite', 'seem', 'give', 'first', 'several', 'also', 'seems', 'became', '’m',\n",
    "                  'sixty', 'anyway', '‘re', 'on', \"you're\", 'onto', 'co', 'third', 'fifty', 'had', 'seemed', '’s', 'yourselves', 'until', 'an', 'mine',\n",
    "                  'across', 'sometimes', 'hereby', 'eleven', 'might', 'mostly', 'un', 'i', \"'d\", 'itself', 'most', 'beforehand', 'five', 'beyond',\n",
    "                  'herself', \"you've\", 'unless', 'regarding', 'there', 'doesn', 'while', 'whoever', \"should've\", 'whereupon', 'name', 'further', 'o', \n",
    "                  'nobody', 'whereby', 'others', 'between', 'thus', 'any', \"you'll\", 'found', 'amongst', 'hers', 'wherever', 'ltd', 'still', 'somehow',\n",
    "                  'often', 'km', 'becoming', 'six', 'can', \"'ve\", 'make', 'hence', 'around', 'both', 'our', 'along', 'latterly', 'please', 'via', 'whole',\n",
    "                  'system', 've', 'd', 'you', 'themselves', 'here', 'used', 'in', 'forty', 'each', 'find', 'during', 'ain', 'ten', 'him', 'nevertheless',\n",
    "                  \"she's\", 'me', 'them', 'ma', 'meanwhile', 'and', 'y', 'did', 'fifteen', 'serious', '’re', \"it's\", '’ll', 'that', 'alone', 'together', \n",
    "                  'where', 'hereafter', 'once', 'himself', 'could', 'made', 'among', 'whom', 'cant', 'doing', 'again', 'therefore', 'beside', 'hundred',\n",
    "                  'three', 'etc', 'moreover', 'various', 'may', 'since', 'always', 'seeming', 'toward', 'are', 'll', 'everywhere', 'a', 'empty', 'yours',\n",
    "                  'theirs', 'back', 'else', 'own', 'as', 'somewhere', 'bill', '‘ll', 're', 'through', 'last', 'nowhere', 'what', 'take', 'computer',\n",
    "                  'yourself', 'eg', 'perhaps', 'thereupon', 'ourselves', 'against', 'inc', 'she', 'whether', 'their', 'm', 'such', 'thick', 'anything',\n",
    "                  '’ve', 'neither', 'none', 'amoungst', 'one', 'were', 'thru', 'am', 'about', 'without', 'up', 'otherwise', 'except', 'who', 'due',\n",
    "                  'thereafter', 'ever', 'much', 'out', 'how', 'whenever', 'before', 'it', 'some', 'being', 'mill', 'or', 'its', 'will', 'become',\n",
    "                  'besides', 'say', 'therein', 'another', 'see', 'anyone', 'becomes', 'never', 'towards', 'everyone', 'below', 'full', 'my', 'only', \n",
    "                  'fill', 'we', 'should', 'thence', 'indeed', 'this', 'was', 'less', 'so', 't', 'at', 'must', 'whither', 'off'\n",
    "]"
   ]
  },
  {
   "cell_type": "code",
   "execution_count": 30,
   "id": "65c44f65",
   "metadata": {},
   "outputs": [],
   "source": [
    "def remove_stopwords(text):\n",
    "    token = word_tokenize(text)\n",
    "    token_without_stopwords = []\n",
    "    for words in token:\n",
    "        if words not in stopwords_list:\n",
    "            token_without_stopwords.append(words)\n",
    "    text = \" \".join(token_without_stopwords)\n",
    "    return text"
   ]
  },
  {
   "cell_type": "code",
   "execution_count": 31,
   "id": "0d1e6ce7",
   "metadata": {},
   "outputs": [
    {
     "data": {
      "text/html": [
       "<div>\n",
       "<style scoped>\n",
       "    .dataframe tbody tr th:only-of-type {\n",
       "        vertical-align: middle;\n",
       "    }\n",
       "\n",
       "    .dataframe tbody tr th {\n",
       "        vertical-align: top;\n",
       "    }\n",
       "\n",
       "    .dataframe thead th {\n",
       "        text-align: right;\n",
       "    }\n",
       "</style>\n",
       "<table border=\"1\" class=\"dataframe\">\n",
       "  <thead>\n",
       "    <tr style=\"text-align: right;\">\n",
       "      <th></th>\n",
       "      <th>Unnamed: 0</th>\n",
       "      <th>text</th>\n",
       "      <th>class</th>\n",
       "    </tr>\n",
       "  </thead>\n",
       "  <tbody>\n",
       "    <tr>\n",
       "      <th>0</th>\n",
       "      <td>2</td>\n",
       "      <td>ex wife threatening suiciderecently left wife ...</td>\n",
       "      <td>suicide</td>\n",
       "    </tr>\n",
       "    <tr>\n",
       "      <th>3</th>\n",
       "      <td>8</td>\n",
       "      <td>need helpjust help crying hard</td>\n",
       "      <td>suicide</td>\n",
       "    </tr>\n",
       "    <tr>\n",
       "      <th>4</th>\n",
       "      <td>9</td>\n",
       "      <td>losthello adam struggling years afraid past ye...</td>\n",
       "      <td>suicide</td>\n",
       "    </tr>\n",
       "    <tr>\n",
       "      <th>5</th>\n",
       "      <td>11</td>\n",
       "      <td>honetly idki not know feel like feel unbearabl...</td>\n",
       "      <td>suicide</td>\n",
       "    </tr>\n",
       "    <tr>\n",
       "      <th>6</th>\n",
       "      <td>12</td>\n",
       "      <td>trigger warning excuse self inflicted burnsi k...</td>\n",
       "      <td>suicide</td>\n",
       "    </tr>\n",
       "    <tr>\n",
       "      <th>...</th>\n",
       "      <td>...</td>\n",
       "      <td>...</td>\n",
       "      <td>...</td>\n",
       "    </tr>\n",
       "    <tr>\n",
       "      <th>193</th>\n",
       "      <td>283</td>\n",
       "      <td>cold sore inlet prefix saying cold sores not b...</td>\n",
       "      <td>suicide</td>\n",
       "    </tr>\n",
       "    <tr>\n",
       "      <th>194</th>\n",
       "      <td>284</td>\n",
       "      <td>not shake suicidal ideationive struggled depre...</td>\n",
       "      <td>suicide</td>\n",
       "    </tr>\n",
       "    <tr>\n",
       "      <th>195</th>\n",
       "      <td>285</td>\n",
       "      <td>somebody talk methere shit life need talk mayb...</td>\n",
       "      <td>suicide</td>\n",
       "    </tr>\n",
       "    <tr>\n",
       "      <th>196</th>\n",
       "      <td>287</td>\n",
       "      <td>police visit ukthrowaway obvious reasons night...</td>\n",
       "      <td>suicide</td>\n",
       "    </tr>\n",
       "    <tr>\n",
       "      <th>197</th>\n",
       "      <td>288</td>\n",
       "      <td>fucked illusioni recently lost felt like broth...</td>\n",
       "      <td>suicide</td>\n",
       "    </tr>\n",
       "  </tbody>\n",
       "</table>\n",
       "<p>100 rows × 3 columns</p>\n",
       "</div>"
      ],
      "text/plain": [
       "     Unnamed: 0                                               text    class\n",
       "0             2  ex wife threatening suiciderecently left wife ...  suicide\n",
       "3             8                     need helpjust help crying hard  suicide\n",
       "4             9  losthello adam struggling years afraid past ye...  suicide\n",
       "5            11  honetly idki not know feel like feel unbearabl...  suicide\n",
       "6            12  trigger warning excuse self inflicted burnsi k...  suicide\n",
       "..          ...                                                ...      ...\n",
       "193         283  cold sore inlet prefix saying cold sores not b...  suicide\n",
       "194         284  not shake suicidal ideationive struggled depre...  suicide\n",
       "195         285  somebody talk methere shit life need talk mayb...  suicide\n",
       "196         287  police visit ukthrowaway obvious reasons night...  suicide\n",
       "197         288  fucked illusioni recently lost felt like broth...  suicide\n",
       "\n",
       "[100 rows x 3 columns]"
      ]
     },
     "execution_count": 31,
     "metadata": {},
     "output_type": "execute_result"
    }
   ],
   "source": [
    "dataframe['text'] = dataframe['text'].apply(remove_stopwords)\n",
    "dataframe.head(100)"
   ]
  },
  {
   "cell_type": "code",
   "execution_count": 32,
   "id": "880de6cc",
   "metadata": {},
   "outputs": [],
   "source": [
    "dataframe['class']=pd.factorize(dataframe['class'])[0]"
   ]
  },
  {
   "cell_type": "code",
   "execution_count": 33,
   "id": "34668ecf",
   "metadata": {},
   "outputs": [
    {
     "data": {
      "text/html": [
       "<div>\n",
       "<style scoped>\n",
       "    .dataframe tbody tr th:only-of-type {\n",
       "        vertical-align: middle;\n",
       "    }\n",
       "\n",
       "    .dataframe tbody tr th {\n",
       "        vertical-align: top;\n",
       "    }\n",
       "\n",
       "    .dataframe thead th {\n",
       "        text-align: right;\n",
       "    }\n",
       "</style>\n",
       "<table border=\"1\" class=\"dataframe\">\n",
       "  <thead>\n",
       "    <tr style=\"text-align: right;\">\n",
       "      <th></th>\n",
       "      <th>Unnamed: 0</th>\n",
       "      <th>text</th>\n",
       "      <th>class</th>\n",
       "    </tr>\n",
       "  </thead>\n",
       "  <tbody>\n",
       "    <tr>\n",
       "      <th>0</th>\n",
       "      <td>2</td>\n",
       "      <td>ex wife threatening suiciderecently left wife ...</td>\n",
       "      <td>0</td>\n",
       "    </tr>\n",
       "    <tr>\n",
       "      <th>3</th>\n",
       "      <td>8</td>\n",
       "      <td>need helpjust help crying hard</td>\n",
       "      <td>0</td>\n",
       "    </tr>\n",
       "    <tr>\n",
       "      <th>4</th>\n",
       "      <td>9</td>\n",
       "      <td>losthello adam struggling years afraid past ye...</td>\n",
       "      <td>0</td>\n",
       "    </tr>\n",
       "    <tr>\n",
       "      <th>5</th>\n",
       "      <td>11</td>\n",
       "      <td>honetly idki not know feel like feel unbearabl...</td>\n",
       "      <td>0</td>\n",
       "    </tr>\n",
       "    <tr>\n",
       "      <th>6</th>\n",
       "      <td>12</td>\n",
       "      <td>trigger warning excuse self inflicted burnsi k...</td>\n",
       "      <td>0</td>\n",
       "    </tr>\n",
       "    <tr>\n",
       "      <th>7</th>\n",
       "      <td>13</td>\n",
       "      <td>ends tonighti not anymore quit</td>\n",
       "      <td>0</td>\n",
       "    </tr>\n",
       "    <tr>\n",
       "      <th>9</th>\n",
       "      <td>18</td>\n",
       "      <td>life years oldhello year old balding male hair...</td>\n",
       "      <td>0</td>\n",
       "    </tr>\n",
       "    <tr>\n",
       "      <th>10</th>\n",
       "      <td>19</td>\n",
       "      <td>took rest sleeping pills painkillersi not wait...</td>\n",
       "      <td>0</td>\n",
       "    </tr>\n",
       "    <tr>\n",
       "      <th>11</th>\n",
       "      <td>20</td>\n",
       "      <td>imagine getting old neitherwrinkles weight gai...</td>\n",
       "      <td>0</td>\n",
       "    </tr>\n",
       "    <tr>\n",
       "      <th>12</th>\n",
       "      <td>21</td>\n",
       "      <td>think getting hit train painfulguns hard come ...</td>\n",
       "      <td>0</td>\n",
       "    </tr>\n",
       "  </tbody>\n",
       "</table>\n",
       "</div>"
      ],
      "text/plain": [
       "    Unnamed: 0                                               text  class\n",
       "0            2  ex wife threatening suiciderecently left wife ...      0\n",
       "3            8                     need helpjust help crying hard      0\n",
       "4            9  losthello adam struggling years afraid past ye...      0\n",
       "5           11  honetly idki not know feel like feel unbearabl...      0\n",
       "6           12  trigger warning excuse self inflicted burnsi k...      0\n",
       "7           13                     ends tonighti not anymore quit      0\n",
       "9           18  life years oldhello year old balding male hair...      0\n",
       "10          19  took rest sleeping pills painkillersi not wait...      0\n",
       "11          20  imagine getting old neitherwrinkles weight gai...      0\n",
       "12          21  think getting hit train painfulguns hard come ...      0"
      ]
     },
     "execution_count": 33,
     "metadata": {},
     "output_type": "execute_result"
    }
   ],
   "source": [
    "dataframe.head(10)"
   ]
  },
  {
   "cell_type": "code",
   "execution_count": 34,
   "id": "a0d9b918",
   "metadata": {},
   "outputs": [],
   "source": [
    "from sklearn.feature_extraction.text import TfidfVectorizer\n",
    "Tfidf_Vector = TfidfVectorizer(min_df = 0., max_df = 1., use_idf = True,max_features=300)\n",
    "Tfidf_Matrix = Tfidf_Vector.fit_transform(dataframe[\"text\"].values.astype('U'))\n",
    "Tfidf_Matrix = Tfidf_Matrix.toarray()\n",
    "#Tfidf_Vector içerisindeki tüm öznitelikleri al\n",
    "features = Tfidf_Vector.get_feature_names_out()\n",
    "# Doküman - öznitelik matrisini göster\n",
    "Tfidf_df = pd.DataFrame(np.round(Tfidf_Matrix, 3), columns = features)\n",
    "Tfidf_df.to_csv(\"Tfidf_df.cvs\",index=False)"
   ]
  },
  {
   "cell_type": "code",
   "execution_count": 40,
   "id": "065d204d",
   "metadata": {},
   "outputs": [],
   "source": [
    "y = pd.DataFrame() \n",
    "x = Tfidf_Matrix\n",
    "x = (x - np.min(x))/(np.max(x)-np.min(x))\n",
    "y[\"class\"] = dataframe[\"class\"]\n",
    "y = y.values"
   ]
  },
  {
   "cell_type": "code",
   "execution_count": 43,
   "id": "1ee710b0",
   "metadata": {},
   "outputs": [],
   "source": [
    "from sklearn.model_selection import train_test_split as tts\n",
    "sonuclar = pd.DataFrame()\n",
    "Accuracy = pd.DataFrame()\n",
    "x_train,x_test,y_train,y_test = tts(x,y,test_size=0.3,random_state=1)\n",
    "sonuclar[\"class\"] = y_test[:,0]\n",
    "y_train = y_train[:,0].reshape(-1,1)\n",
    "y_test = y_test[:,0].reshape(-1,1)"
   ]
  },
  {
   "cell_type": "code",
   "execution_count": 57,
   "id": "e6b1418f",
   "metadata": {
    "collapsed": true
   },
   "outputs": [
    {
     "name": "stdout",
     "output_type": "stream",
     "text": [
      "BernoulliNB başladı\n"
     ]
    },
    {
     "name": "stderr",
     "output_type": "stream",
     "text": [
      "C:\\Users\\HepsiBTC\\anaconda3\\Lib\\site-packages\\sklearn\\utils\\validation.py:1184: DataConversionWarning: A column-vector y was passed when a 1d array was expected. Please change the shape of y to (n_samples, ), for example using ravel().\n",
      "  y = column_or_1d(y, warn=True)\n",
      "C:\\Users\\HepsiBTC\\anaconda3\\Lib\\site-packages\\sklearn\\utils\\validation.py:1184: DataConversionWarning: A column-vector y was passed when a 1d array was expected. Please change the shape of y to (n_samples, ), for example using ravel().\n",
      "  y = column_or_1d(y, warn=True)\n",
      "C:\\Users\\HepsiBTC\\anaconda3\\Lib\\site-packages\\sklearn\\utils\\validation.py:1184: DataConversionWarning: A column-vector y was passed when a 1d array was expected. Please change the shape of y to (n_samples, ), for example using ravel().\n",
      "  y = column_or_1d(y, warn=True)\n",
      "C:\\Users\\HepsiBTC\\anaconda3\\Lib\\site-packages\\sklearn\\utils\\validation.py:1184: DataConversionWarning: A column-vector y was passed when a 1d array was expected. Please change the shape of y to (n_samples, ), for example using ravel().\n",
      "  y = column_or_1d(y, warn=True)\n",
      "C:\\Users\\HepsiBTC\\anaconda3\\Lib\\site-packages\\sklearn\\utils\\validation.py:1184: DataConversionWarning: A column-vector y was passed when a 1d array was expected. Please change the shape of y to (n_samples, ), for example using ravel().\n",
      "  y = column_or_1d(y, warn=True)\n",
      "C:\\Users\\HepsiBTC\\anaconda3\\Lib\\site-packages\\sklearn\\utils\\validation.py:1184: DataConversionWarning: A column-vector y was passed when a 1d array was expected. Please change the shape of y to (n_samples, ), for example using ravel().\n",
      "  y = column_or_1d(y, warn=True)\n",
      "C:\\Users\\HepsiBTC\\anaconda3\\Lib\\site-packages\\sklearn\\utils\\validation.py:1184: DataConversionWarning: A column-vector y was passed when a 1d array was expected. Please change the shape of y to (n_samples, ), for example using ravel().\n",
      "  y = column_or_1d(y, warn=True)\n",
      "C:\\Users\\HepsiBTC\\anaconda3\\Lib\\site-packages\\sklearn\\utils\\validation.py:1184: DataConversionWarning: A column-vector y was passed when a 1d array was expected. Please change the shape of y to (n_samples, ), for example using ravel().\n",
      "  y = column_or_1d(y, warn=True)\n",
      "C:\\Users\\HepsiBTC\\anaconda3\\Lib\\site-packages\\sklearn\\utils\\validation.py:1184: DataConversionWarning: A column-vector y was passed when a 1d array was expected. Please change the shape of y to (n_samples, ), for example using ravel().\n",
      "  y = column_or_1d(y, warn=True)\n",
      "C:\\Users\\HepsiBTC\\anaconda3\\Lib\\site-packages\\sklearn\\utils\\validation.py:1184: DataConversionWarning: A column-vector y was passed when a 1d array was expected. Please change the shape of y to (n_samples, ), for example using ravel().\n",
      "  y = column_or_1d(y, warn=True)\n"
     ]
    },
    {
     "name": "stdout",
     "output_type": "stream",
     "text": [
      "BernoulliNB bitti\n"
     ]
    },
    {
     "name": "stderr",
     "output_type": "stream",
     "text": [
      "C:\\Users\\HepsiBTC\\anaconda3\\Lib\\site-packages\\sklearn\\utils\\validation.py:1184: DataConversionWarning: A column-vector y was passed when a 1d array was expected. Please change the shape of y to (n_samples, ), for example using ravel().\n",
      "  y = column_or_1d(y, warn=True)\n"
     ]
    }
   ],
   "source": [
    "print(\"BernoulliNB başladı\")\n",
    "from sklearn.model_selection import cross_val_score\n",
    "from sklearn.naive_bayes import BernoulliNB\n",
    "BNB = BernoulliNB()\n",
    "BNB.fit(x_train,y_train)\n",
    "AccuracyBernoulliNB = cross_val_score(estimator = BNB, X = x_train,y = y_train, cv=10)\n",
    "y_predBernoulliNB = BNB.predict(x_test)\n",
    "print(\"BernoulliNB bitti\")"
   ]
  },
  {
   "cell_type": "code",
   "execution_count": 58,
   "id": "9ff1bb07",
   "metadata": {},
   "outputs": [],
   "source": [
    "from sklearn.metrics import accuracy_score, hamming_loss, f1_score, recall_score, zero_one_loss,precision_score"
   ]
  },
  {
   "cell_type": "markdown",
   "id": "a14cbd48",
   "metadata": {},
   "source": [
    "## BERNOULLINB"
   ]
  },
  {
   "cell_type": "code",
   "execution_count": 59,
   "id": "ee5daece",
   "metadata": {},
   "outputs": [],
   "source": [
    "\n",
    "accuracy_scoreBernoulliNB = accuracy_score(y_test, y_predBernoulliNB)\n",
    "f1_scoreBernoulliNB = f1_score(y_test, y_predBernoulliNB)\n",
    "recall_scoreBernoulliNB = recall_score(y_test, y_predBernoulliNB)\n",
    "hamming_lossBernoulliNB = hamming_loss(y_test, y_predBernoulliNB)\n",
    "zero_one_lossBernoulliNB = zero_one_loss(y_test, y_predBernoulliNB, normalize=False)\n",
    "precision_scoreBernoulliNB = precision_score(y_test, y_predBernoulliNB)"
   ]
  },
  {
   "cell_type": "code",
   "execution_count": 61,
   "id": "22c5f77b",
   "metadata": {},
   "outputs": [
    {
     "name": "stdout",
     "output_type": "stream",
     "text": [
      "accuracy_scoreBernoulliNB: 0.7936666666666666\n",
      "f1_scoreBernoulliNB: 0.81139549055454\n",
      "recall_scoreBernoulliNB: 0.9004733994589721\n",
      "hamming_lossBernoulliNB: 0.20633333333333334\n",
      "zero_one_lossBernoulliNB: 3714\n",
      "precision_scoreBernoulliNB: 0.7383548983364141\n"
     ]
    }
   ],
   "source": [
    "print(\"accuracy_scoreBernoulliNB: {}\".format(accuracy_scoreBernoulliNB))\n",
    "print(\"f1_scoreBernoulliNB: {}\".format(f1_scoreBernoulliNB))\n",
    "print(\"recall_scoreBernoulliNB: {}\".format(recall_scoreBernoulliNB))\n",
    "print(\"hamming_lossBernoulliNB: {}\".format(hamming_lossBernoulliNB))\n",
    "print(\"zero_one_lossBernoulliNB: {}\".format(zero_one_lossBernoulliNB))\n",
    "print(\"precision_scoreBernoulliNB: {}\".format(precision_scoreBernoulliNB))"
   ]
  },
  {
   "cell_type": "code",
   "execution_count": 60,
   "id": "4fd5d24e",
   "metadata": {},
   "outputs": [
    {
     "data": {
      "image/png": "[encoded data removed]",
      "text/plain": [
       "<Figure size 800x800 with 1 Axes>"
      ]
     },
     "metadata": {},
     "output_type": "display_data"
    }
   ],
   "source": [
    "# Roc Eğrisi BNB\n",
    "from sklearn.metrics import roc_curve, auc\n",
    "import matplotlib.pyplot as plt\n",
    "y_scoresBernoulliNB = BNB.predict_proba(x_test)[:, 1]\n",
    "\n",
    "# ROC eğrisini hesapla\n",
    "fprBNB, tprBNB, thresholdsBNB = roc_curve(y_test, y_scoresBernoulliNB)\n",
    "roc_aucBNB = auc(fprBNB, tprBNB)\n",
    "\n",
    "# ROC eğrisini çiz \n",
    "plt.figure(figsize=(8, 8))\n",
    "plt.plot(fprBNB, tprBNB, color='darkorange', lw=2, label=f'ROC curve RFC (area = {roc_aucBNB:.2f})')\n",
    "plt.plot([0, 1], [0, 1], color='navy', lw=2, linestyle='--')\n",
    "plt.xlabel('False Positive Rate')\n",
    "plt.ylabel('True Positive Rate')\n",
    "plt.title('ROC Curve')\n",
    "plt.legend(loc='lower right')\n",
    "plt.show()"
   ]
  },
  {
   "cell_type": "markdown",
   "id": "ca9d895d",
   "metadata": {},
   "source": [
    "## GUSSIANNB"
   ]
  },
  {
   "cell_type": "code",
   "execution_count": 64,
   "id": "033331b4",
   "metadata": {
    "collapsed": true
   },
   "outputs": [
    {
     "name": "stdout",
     "output_type": "stream",
     "text": [
      "GaussianNB başladı\n"
     ]
    },
    {
     "name": "stderr",
     "output_type": "stream",
     "text": [
      "C:\\Users\\HepsiBTC\\anaconda3\\Lib\\site-packages\\sklearn\\utils\\validation.py:1184: DataConversionWarning: A column-vector y was passed when a 1d array was expected. Please change the shape of y to (n_samples, ), for example using ravel().\n",
      "  y = column_or_1d(y, warn=True)\n",
      "C:\\Users\\HepsiBTC\\anaconda3\\Lib\\site-packages\\sklearn\\utils\\validation.py:1184: DataConversionWarning: A column-vector y was passed when a 1d array was expected. Please change the shape of y to (n_samples, ), for example using ravel().\n",
      "  y = column_or_1d(y, warn=True)\n",
      "C:\\Users\\HepsiBTC\\anaconda3\\Lib\\site-packages\\sklearn\\utils\\validation.py:1184: DataConversionWarning: A column-vector y was passed when a 1d array was expected. Please change the shape of y to (n_samples, ), for example using ravel().\n",
      "  y = column_or_1d(y, warn=True)\n",
      "C:\\Users\\HepsiBTC\\anaconda3\\Lib\\site-packages\\sklearn\\utils\\validation.py:1184: DataConversionWarning: A column-vector y was passed when a 1d array was expected. Please change the shape of y to (n_samples, ), for example using ravel().\n",
      "  y = column_or_1d(y, warn=True)\n",
      "C:\\Users\\HepsiBTC\\anaconda3\\Lib\\site-packages\\sklearn\\utils\\validation.py:1184: DataConversionWarning: A column-vector y was passed when a 1d array was expected. Please change the shape of y to (n_samples, ), for example using ravel().\n",
      "  y = column_or_1d(y, warn=True)\n",
      "C:\\Users\\HepsiBTC\\anaconda3\\Lib\\site-packages\\sklearn\\utils\\validation.py:1184: DataConversionWarning: A column-vector y was passed when a 1d array was expected. Please change the shape of y to (n_samples, ), for example using ravel().\n",
      "  y = column_or_1d(y, warn=True)\n",
      "C:\\Users\\HepsiBTC\\anaconda3\\Lib\\site-packages\\sklearn\\utils\\validation.py:1184: DataConversionWarning: A column-vector y was passed when a 1d array was expected. Please change the shape of y to (n_samples, ), for example using ravel().\n",
      "  y = column_or_1d(y, warn=True)\n",
      "C:\\Users\\HepsiBTC\\anaconda3\\Lib\\site-packages\\sklearn\\utils\\validation.py:1184: DataConversionWarning: A column-vector y was passed when a 1d array was expected. Please change the shape of y to (n_samples, ), for example using ravel().\n",
      "  y = column_or_1d(y, warn=True)\n",
      "C:\\Users\\HepsiBTC\\anaconda3\\Lib\\site-packages\\sklearn\\utils\\validation.py:1184: DataConversionWarning: A column-vector y was passed when a 1d array was expected. Please change the shape of y to (n_samples, ), for example using ravel().\n",
      "  y = column_or_1d(y, warn=True)\n",
      "C:\\Users\\HepsiBTC\\anaconda3\\Lib\\site-packages\\sklearn\\utils\\validation.py:1184: DataConversionWarning: A column-vector y was passed when a 1d array was expected. Please change the shape of y to (n_samples, ), for example using ravel().\n",
      "  y = column_or_1d(y, warn=True)\n"
     ]
    },
    {
     "name": "stdout",
     "output_type": "stream",
     "text": [
      "GaussianNB bitti\n"
     ]
    },
    {
     "name": "stderr",
     "output_type": "stream",
     "text": [
      "C:\\Users\\HepsiBTC\\anaconda3\\Lib\\site-packages\\sklearn\\utils\\validation.py:1184: DataConversionWarning: A column-vector y was passed when a 1d array was expected. Please change the shape of y to (n_samples, ), for example using ravel().\n",
      "  y = column_or_1d(y, warn=True)\n"
     ]
    }
   ],
   "source": [
    "print(\"GaussianNB başladı\")\n",
    "from sklearn.naive_bayes import GaussianNB \n",
    "GNB = GaussianNB()\n",
    "GNB.fit(x_train,y_train)\n",
    "AccuracyGaussianNB = cross_val_score(estimator = GNB, X = x_train,y = y_train, cv=10)\n",
    "y_predGaussianNB = GNB.predict(x_test)\n",
    "print(\"GaussianNB bitti\")"
   ]
  },
  {
   "cell_type": "code",
   "execution_count": 65,
   "id": "1b2b15b0",
   "metadata": {},
   "outputs": [],
   "source": [
    "accuracy_scoreGaussianNB = accuracy_score(y_test, y_predGaussianNB)\n",
    "f1_scoreGaussianNB = f1_score(y_test, y_predGaussianNB)\n",
    "recall_scoreGaussianNB = recall_score(y_test, y_predGaussianNB)\n",
    "hamming_lossGaussianNB = hamming_loss(y_test, y_predGaussianNB)\n",
    "zero_one_lossGaussianNB = zero_one_loss(y_test, y_predGaussianNB, normalize=False)\n",
    "precision_scoreGaussianNB = precision_score(y_test, y_predGaussianNB)"
   ]
  },
  {
   "cell_type": "code",
   "execution_count": 67,
   "id": "ce513001",
   "metadata": {},
   "outputs": [
    {
     "name": "stdout",
     "output_type": "stream",
     "text": [
      "accuracy_scoreBGaussianNB: 0.8207222222222222\n",
      "f1_scoreGaussianNB: 0.8037940049857116\n",
      "recall_scoreGaussianNB: 0.7450405770964833\n",
      "hamming_lossGaussianNB: 0.17927777777777779\n",
      "zero_one_lossGaussianNB: 3227\n",
      "precision_scoreGaussianNB: 0.8726072607260726\n"
     ]
    }
   ],
   "source": [
    "print(\"accuracy_scoreBGaussianNB: {}\".format(accuracy_scoreGaussianNB))\n",
    "print(\"f1_scoreGaussianNB: {}\".format(f1_scoreGaussianNB))\n",
    "print(\"recall_scoreGaussianNB: {}\".format(recall_scoreGaussianNB))\n",
    "print(\"hamming_lossGaussianNB: {}\".format(hamming_lossGaussianNB))\n",
    "print(\"zero_one_lossGaussianNB: {}\".format(zero_one_lossGaussianNB))\n",
    "print(\"precision_scoreGaussianNB: {}\".format(precision_scoreGaussianNB))"
   ]
  },
  {
   "cell_type": "code",
   "execution_count": 69,
   "id": "ef926c27",
   "metadata": {},
   "outputs": [
    {
     "data": {
      "image/png": "[encoded data removed]",
      "text/plain": [
       "<Figure size 800x800 with 1 Axes>"
      ]
     },
     "metadata": {},
     "output_type": "display_data"
    }
   ],
   "source": [
    "# Roc Eğrisi GNB\n",
    "from sklearn.metrics import roc_curve, auc\n",
    "import matplotlib.pyplot as plt\n",
    "y_scoresGaussianNB = GNB.predict_proba(x_test)[:, 1]\n",
    "\n",
    "# ROC eğrisini hesapla\n",
    "fprGNB, tprGNB, thresholdsGNB = roc_curve(y_test, y_scoresGaussianNB)\n",
    "roc_aucGNB = auc(fprGNB, tprGNB)\n",
    "\n",
    "# ROC eğrisini çiz \n",
    "plt.figure(figsize=(8, 8))\n",
    "plt.plot(fprGNB, tprGNB, color='darkorange', lw=2, label=f'ROC curve BNB (area = {roc_aucGNB:.2f})')\n",
    "plt.plot([0, 1], [0, 1], color='navy', lw=2, linestyle='--')\n",
    "plt.xlabel('False Positive Rate')\n",
    "plt.ylabel('True Positive Rate')\n",
    "plt.title('ROC Curve')\n",
    "plt.legend(loc='lower right')\n",
    "plt.show()"
   ]
  },
  {
   "cell_type": "markdown",
   "id": "bd257fb6",
   "metadata": {},
   "source": [
    "## Decision Tree Classifier"
   ]
  },
  {
   "cell_type": "code",
   "execution_count": 73,
   "id": "a50636bf",
   "metadata": {},
   "outputs": [
    {
     "name": "stdout",
     "output_type": "stream",
     "text": [
      "DecisionTreeClassifier başladı\n",
      "DecisionTreeClassifier bitti\n"
     ]
    }
   ],
   "source": [
    "print(\"DecisionTreeClassifier başladı\")\n",
    "from sklearn.tree import DecisionTreeClassifier\n",
    "Dtree = DecisionTreeClassifier(random_state=0)\n",
    "Dtree.fit(x_train,y_train)\n",
    "AccuracyDecisionTreeClassifier = cross_val_score(estimator = Dtree, X = x_train,y = y_train, cv=10)\n",
    "y_predDTC = Dtree.predict(x_test)\n",
    "print(\"DecisionTreeClassifier bitti\")"
   ]
  },
  {
   "cell_type": "code",
   "execution_count": 75,
   "id": "e72ebd01",
   "metadata": {},
   "outputs": [],
   "source": [
    "accuracy_scoreDTC = accuracy_score(y_test, y_predDTC)\n",
    "f1_scoreDTC = f1_score(y_test, y_predDTC)\n",
    "recall_scoreDTC = recall_score(y_test, y_predDTC)\n",
    "hamming_lossDTC = hamming_loss(y_test, y_predDTC)\n",
    "zero_one_lossDTC = zero_one_loss(y_test, y_predDTC, normalize=False)\n",
    "precision_scoreDTC = precision_score(y_test, y_predDTC)"
   ]
  },
  {
   "cell_type": "code",
   "execution_count": 80,
   "id": "5bbf51ce",
   "metadata": {},
   "outputs": [
    {
     "name": "stdout",
     "output_type": "stream",
     "text": [
      "accuracy_scoreDecisionTreeClassifier: 0.8278333333333333\n",
      "f1_scoreDecisionTreeClassifier: 0.8280911965385255\n",
      "recall_scoreDecisionTreeClassifier: 0.8412984670874661\n",
      "hamming_lossDecisionTreeClassifierB: 0.17216666666666666\n",
      "zero_one_lossDecisionTreeClassifier: 3099\n",
      "precision_scoreDecisionTreeClassifier: 0.8152921900600765\n"
     ]
    }
   ],
   "source": [
    "print(\"accuracy_scoreDecisionTreeClassifier: {}\".format(accuracy_scoreDTC))\n",
    "print(\"f1_scoreDecisionTreeClassifier: {}\".format(f1_scoreDTC))\n",
    "print(\"recall_scoreDecisionTreeClassifier: {}\".format(recall_scoreDTC))\n",
    "print(\"hamming_lossDecisionTreeClassifierB: {}\".format(hamming_lossDTC))\n",
    "print(\"zero_one_lossDecisionTreeClassifier: {}\".format(zero_one_lossDTC))\n",
    "print(\"precision_scoreDecisionTreeClassifier: {}\".format(precision_scoreDTC))"
   ]
  },
  {
   "cell_type": "code",
   "execution_count": null,
   "id": "6eea3c25",
   "metadata": {},
   "outputs": [],
   "source": []
  },
  {
   "cell_type": "markdown",
   "id": "24ab6fae",
   "metadata": {},
   "source": [
    "## Extra Tree Classifier"
   ]
  },
  {
   "cell_type": "code",
   "execution_count": 77,
   "id": "7995d531",
   "metadata": {},
   "outputs": [
    {
     "name": "stdout",
     "output_type": "stream",
     "text": [
      "ExtraTreeClassifier başladı\n"
     ]
    },
    {
     "name": "stderr",
     "output_type": "stream",
     "text": [
      "C:\\Users\\HepsiBTC\\anaconda3\\Lib\\site-packages\\sklearn\\ensemble\\_bagging.py:802: DataConversionWarning: A column-vector y was passed when a 1d array was expected. Please change the shape of y to (n_samples, ), for example using ravel().\n",
      "  y = column_or_1d(y, warn=True)\n",
      "C:\\Users\\HepsiBTC\\anaconda3\\Lib\\site-packages\\sklearn\\ensemble\\_bagging.py:802: DataConversionWarning: A column-vector y was passed when a 1d array was expected. Please change the shape of y to (n_samples, ), for example using ravel().\n",
      "  y = column_or_1d(y, warn=True)\n",
      "C:\\Users\\HepsiBTC\\anaconda3\\Lib\\site-packages\\sklearn\\ensemble\\_bagging.py:802: DataConversionWarning: A column-vector y was passed when a 1d array was expected. Please change the shape of y to (n_samples, ), for example using ravel().\n",
      "  y = column_or_1d(y, warn=True)\n",
      "C:\\Users\\HepsiBTC\\anaconda3\\Lib\\site-packages\\sklearn\\ensemble\\_bagging.py:802: DataConversionWarning: A column-vector y was passed when a 1d array was expected. Please change the shape of y to (n_samples, ), for example using ravel().\n",
      "  y = column_or_1d(y, warn=True)\n",
      "C:\\Users\\HepsiBTC\\anaconda3\\Lib\\site-packages\\sklearn\\ensemble\\_bagging.py:802: DataConversionWarning: A column-vector y was passed when a 1d array was expected. Please change the shape of y to (n_samples, ), for example using ravel().\n",
      "  y = column_or_1d(y, warn=True)\n",
      "C:\\Users\\HepsiBTC\\anaconda3\\Lib\\site-packages\\sklearn\\ensemble\\_bagging.py:802: DataConversionWarning: A column-vector y was passed when a 1d array was expected. Please change the shape of y to (n_samples, ), for example using ravel().\n",
      "  y = column_or_1d(y, warn=True)\n",
      "C:\\Users\\HepsiBTC\\anaconda3\\Lib\\site-packages\\sklearn\\ensemble\\_bagging.py:802: DataConversionWarning: A column-vector y was passed when a 1d array was expected. Please change the shape of y to (n_samples, ), for example using ravel().\n",
      "  y = column_or_1d(y, warn=True)\n",
      "C:\\Users\\HepsiBTC\\anaconda3\\Lib\\site-packages\\sklearn\\ensemble\\_bagging.py:802: DataConversionWarning: A column-vector y was passed when a 1d array was expected. Please change the shape of y to (n_samples, ), for example using ravel().\n",
      "  y = column_or_1d(y, warn=True)\n",
      "C:\\Users\\HepsiBTC\\anaconda3\\Lib\\site-packages\\sklearn\\ensemble\\_bagging.py:802: DataConversionWarning: A column-vector y was passed when a 1d array was expected. Please change the shape of y to (n_samples, ), for example using ravel().\n",
      "  y = column_or_1d(y, warn=True)\n",
      "C:\\Users\\HepsiBTC\\anaconda3\\Lib\\site-packages\\sklearn\\ensemble\\_bagging.py:802: DataConversionWarning: A column-vector y was passed when a 1d array was expected. Please change the shape of y to (n_samples, ), for example using ravel().\n",
      "  y = column_or_1d(y, warn=True)\n",
      "C:\\Users\\HepsiBTC\\anaconda3\\Lib\\site-packages\\sklearn\\ensemble\\_bagging.py:802: DataConversionWarning: A column-vector y was passed when a 1d array was expected. Please change the shape of y to (n_samples, ), for example using ravel().\n",
      "  y = column_or_1d(y, warn=True)\n"
     ]
    },
    {
     "name": "stdout",
     "output_type": "stream",
     "text": [
      "ExtraTreeClassifier bitti\n"
     ]
    }
   ],
   "source": [
    "print(\"ExtraTreeClassifier başladı\")\n",
    "from sklearn.ensemble import BaggingClassifier\n",
    "from sklearn.tree import ExtraTreeClassifier\n",
    "extra_tree = ExtraTreeClassifier(random_state=0)\n",
    "BC = BaggingClassifier(extra_tree, random_state=0).fit(x_train, y_train)\n",
    "AccuracyExtra_tree = cross_val_score(estimator = BC, X = x_train,y = y_train, cv=10)\n",
    "y_predETC = BC.predict(x_test)\n",
    "print(\"ExtraTreeClassifier bitti\")"
   ]
  },
  {
   "cell_type": "code",
   "execution_count": 83,
   "id": "3dabdc69",
   "metadata": {},
   "outputs": [],
   "source": [
    "accuracy_scoreETC= accuracy_score(y_test, y_predETC)\n",
    "f1_scoreETC = f1_score(y_test, y_predETC)\n",
    "recall_scoreETC = recall_score(y_test, y_predETC)\n",
    "hamming_lossETC = hamming_loss(y_test, y_predETC)\n",
    "zero_one_lossETC = zero_one_loss(y_test, y_predETC, normalize=False)\n",
    "precision_scoreETC = precision_score(y_test, y_predETC)"
   ]
  },
  {
   "cell_type": "code",
   "execution_count": 86,
   "id": "503d0e17",
   "metadata": {},
   "outputs": [
    {
     "name": "stdout",
     "output_type": "stream",
     "text": [
      "accuracy_scoreExtraTreeClassifier: 0.8555555555555555\n",
      "f1_scoreExtraTreeClassifier: 0.8492753623188406\n",
      "recall_scoreExtraTreeClassifier: 0.8256311992786294\n",
      "hamming_lossExtraTreeClassifier: 0.14444444444444443\n",
      "zero_one_lossExtraTreeClassifier: 2600\n",
      "precision_scoreExtraTreeClassifier: 0.8743136786822631\n"
     ]
    }
   ],
   "source": [
    "print(\"accuracy_scoreExtraTreeClassifier: {}\".format(accuracy_scoreETC))\n",
    "print(\"f1_scoreExtraTreeClassifier: {}\".format(f1_scoreETC))\n",
    "print(\"recall_scoreExtraTreeClassifier: {}\".format(recall_scoreETC))\n",
    "print(\"hamming_lossExtraTreeClassifier: {}\".format(hamming_lossETC))\n",
    "print(\"zero_one_lossExtraTreeClassifier: {}\".format(zero_one_lossETC))\n",
    "print(\"precision_scoreExtraTreeClassifier: {}\".format(precision_scoreETC))"
   ]
  },
  {
   "cell_type": "markdown",
   "id": "98257421",
   "metadata": {},
   "source": [
    "## K-NNeighbors Classifier"
   ]
  },
  {
   "cell_type": "code",
   "execution_count": 85,
   "id": "d3d96e7c",
   "metadata": {
    "collapsed": true
   },
   "outputs": [
    {
     "name": "stdout",
     "output_type": "stream",
     "text": [
      "KNeighborsClassifier başladı\n"
     ]
    },
    {
     "name": "stderr",
     "output_type": "stream",
     "text": [
      "C:\\Users\\HepsiBTC\\anaconda3\\Lib\\site-packages\\sklearn\\neighbors\\_classification.py:228: DataConversionWarning: A column-vector y was passed when a 1d array was expected. Please change the shape of y to (n_samples,), for example using ravel().\n",
      "  return self._fit(X, y)\n",
      "C:\\Users\\HepsiBTC\\anaconda3\\Lib\\site-packages\\sklearn\\neighbors\\_classification.py:228: DataConversionWarning: A column-vector y was passed when a 1d array was expected. Please change the shape of y to (n_samples,), for example using ravel().\n",
      "  return self._fit(X, y)\n",
      "C:\\Users\\HepsiBTC\\anaconda3\\Lib\\site-packages\\sklearn\\neighbors\\_classification.py:228: DataConversionWarning: A column-vector y was passed when a 1d array was expected. Please change the shape of y to (n_samples,), for example using ravel().\n",
      "  return self._fit(X, y)\n",
      "C:\\Users\\HepsiBTC\\anaconda3\\Lib\\site-packages\\sklearn\\neighbors\\_classification.py:228: DataConversionWarning: A column-vector y was passed when a 1d array was expected. Please change the shape of y to (n_samples,), for example using ravel().\n",
      "  return self._fit(X, y)\n",
      "C:\\Users\\HepsiBTC\\anaconda3\\Lib\\site-packages\\sklearn\\neighbors\\_classification.py:228: DataConversionWarning: A column-vector y was passed when a 1d array was expected. Please change the shape of y to (n_samples,), for example using ravel().\n",
      "  return self._fit(X, y)\n",
      "C:\\Users\\HepsiBTC\\anaconda3\\Lib\\site-packages\\sklearn\\neighbors\\_classification.py:228: DataConversionWarning: A column-vector y was passed when a 1d array was expected. Please change the shape of y to (n_samples,), for example using ravel().\n",
      "  return self._fit(X, y)\n",
      "C:\\Users\\HepsiBTC\\anaconda3\\Lib\\site-packages\\sklearn\\neighbors\\_classification.py:228: DataConversionWarning: A column-vector y was passed when a 1d array was expected. Please change the shape of y to (n_samples,), for example using ravel().\n",
      "  return self._fit(X, y)\n",
      "C:\\Users\\HepsiBTC\\anaconda3\\Lib\\site-packages\\sklearn\\neighbors\\_classification.py:228: DataConversionWarning: A column-vector y was passed when a 1d array was expected. Please change the shape of y to (n_samples,), for example using ravel().\n",
      "  return self._fit(X, y)\n",
      "C:\\Users\\HepsiBTC\\anaconda3\\Lib\\site-packages\\sklearn\\neighbors\\_classification.py:228: DataConversionWarning: A column-vector y was passed when a 1d array was expected. Please change the shape of y to (n_samples,), for example using ravel().\n",
      "  return self._fit(X, y)\n",
      "C:\\Users\\HepsiBTC\\anaconda3\\Lib\\site-packages\\sklearn\\neighbors\\_classification.py:228: DataConversionWarning: A column-vector y was passed when a 1d array was expected. Please change the shape of y to (n_samples,), for example using ravel().\n",
      "  return self._fit(X, y)\n",
      "C:\\Users\\HepsiBTC\\anaconda3\\Lib\\site-packages\\sklearn\\neighbors\\_classification.py:228: DataConversionWarning: A column-vector y was passed when a 1d array was expected. Please change the shape of y to (n_samples,), for example using ravel().\n",
      "  return self._fit(X, y)\n"
     ]
    },
    {
     "name": "stdout",
     "output_type": "stream",
     "text": [
      "KNeighborsClassifier bitti\n"
     ]
    }
   ],
   "source": [
    "#%%KNeighborsClassifier\n",
    "print(\"KNeighborsClassifier başladı\")\n",
    "from sklearn.neighbors import KNeighborsClassifier\n",
    "KNN = KNeighborsClassifier(n_neighbors=3)\n",
    "KNN.fit(x_test, y_test)\n",
    "AccuracyKNN = cross_val_score(estimator = KNN, X = x_train,y = y_train, cv=10)\n",
    "y_predKNNC = KNN.predict(x_test)\n",
    "print(\"KNeighborsClassifier bitti\")\n"
   ]
  },
  {
   "cell_type": "code",
   "execution_count": 87,
   "id": "8251f367",
   "metadata": {},
   "outputs": [],
   "source": [
    "accuracy_scoreKNNC= accuracy_score(y_test, y_predKNNC)\n",
    "f1_scoreKNNC = f1_score(y_test, y_predKNNC)\n",
    "recall_scoreKNNC = recall_score(y_test, y_predKNNC)\n",
    "hamming_lossKNNC = hamming_loss(y_test, y_predKNNC)\n",
    "zero_one_lossKNNC = zero_one_loss(y_test, y_predKNNC, normalize=False)\n",
    "precision_scoreKNNC = precision_score(y_test, y_predKNNC)"
   ]
  },
  {
   "cell_type": "code",
   "execution_count": 88,
   "id": "37dfb9ea",
   "metadata": {},
   "outputs": [
    {
     "name": "stdout",
     "output_type": "stream",
     "text": [
      "accuracy_scoreKNeighborsClassifier: 0.7617777777777778\n",
      "f1_scoreKNeighborsClassifier: 0.7995699728895953\n",
      "recall_scoreKNeighborsClassifier: 0.9640441839495041\n",
      "hamming_lossKNeighborsClassifier: 0.23822222222222222\n",
      "zero_one_lossKNeighborsClassifier: 4288\n",
      "precision_scoreKNeighborsClassifier: 0.6830378533780547\n"
     ]
    }
   ],
   "source": [
    "print(\"accuracy_scoreKNeighborsClassifier: {}\".format(accuracy_scoreKNNC))\n",
    "print(\"f1_scoreKNeighborsClassifier: {}\".format(f1_scoreKNNC))\n",
    "print(\"recall_scoreKNeighborsClassifier: {}\".format(recall_scoreKNNC))\n",
    "print(\"hamming_lossKNeighborsClassifier: {}\".format(hamming_lossKNNC))\n",
    "print(\"zero_one_lossKNeighborsClassifier: {}\".format(zero_one_lossKNNC))\n",
    "print(\"precision_scoreKNeighborsClassifier: {}\".format(precision_scoreKNNC))"
   ]
  },
  {
   "cell_type": "markdown",
   "id": "2ac3afb3",
   "metadata": {},
   "source": [
    "## MLPClassifier"
   ]
  },
  {
   "cell_type": "code",
   "execution_count": 90,
   "id": "f1659ba9",
   "metadata": {},
   "outputs": [
    {
     "name": "stdout",
     "output_type": "stream",
     "text": [
      "MLPClassifier başladı\n"
     ]
    },
    {
     "name": "stderr",
     "output_type": "stream",
     "text": [
      "C:\\Users\\HepsiBTC\\anaconda3\\Lib\\site-packages\\sklearn\\neural_network\\_multilayer_perceptron.py:1102: DataConversionWarning: A column-vector y was passed when a 1d array was expected. Please change the shape of y to (n_samples, ), for example using ravel().\n",
      "  y = column_or_1d(y, warn=True)\n",
      "C:\\Users\\HepsiBTC\\anaconda3\\Lib\\site-packages\\sklearn\\neural_network\\_multilayer_perceptron.py:1102: DataConversionWarning: A column-vector y was passed when a 1d array was expected. Please change the shape of y to (n_samples, ), for example using ravel().\n",
      "  y = column_or_1d(y, warn=True)\n",
      "C:\\Users\\HepsiBTC\\anaconda3\\Lib\\site-packages\\sklearn\\neural_network\\_multilayer_perceptron.py:1102: DataConversionWarning: A column-vector y was passed when a 1d array was expected. Please change the shape of y to (n_samples, ), for example using ravel().\n",
      "  y = column_or_1d(y, warn=True)\n",
      "C:\\Users\\HepsiBTC\\anaconda3\\Lib\\site-packages\\sklearn\\neural_network\\_multilayer_perceptron.py:1102: DataConversionWarning: A column-vector y was passed when a 1d array was expected. Please change the shape of y to (n_samples, ), for example using ravel().\n",
      "  y = column_or_1d(y, warn=True)\n",
      "C:\\Users\\HepsiBTC\\anaconda3\\Lib\\site-packages\\sklearn\\neural_network\\_multilayer_perceptron.py:1102: DataConversionWarning: A column-vector y was passed when a 1d array was expected. Please change the shape of y to (n_samples, ), for example using ravel().\n",
      "  y = column_or_1d(y, warn=True)\n",
      "C:\\Users\\HepsiBTC\\anaconda3\\Lib\\site-packages\\sklearn\\neural_network\\_multilayer_perceptron.py:1102: DataConversionWarning: A column-vector y was passed when a 1d array was expected. Please change the shape of y to (n_samples, ), for example using ravel().\n",
      "  y = column_or_1d(y, warn=True)\n",
      "C:\\Users\\HepsiBTC\\anaconda3\\Lib\\site-packages\\sklearn\\neural_network\\_multilayer_perceptron.py:1102: DataConversionWarning: A column-vector y was passed when a 1d array was expected. Please change the shape of y to (n_samples, ), for example using ravel().\n",
      "  y = column_or_1d(y, warn=True)\n",
      "C:\\Users\\HepsiBTC\\anaconda3\\Lib\\site-packages\\sklearn\\neural_network\\_multilayer_perceptron.py:1102: DataConversionWarning: A column-vector y was passed when a 1d array was expected. Please change the shape of y to (n_samples, ), for example using ravel().\n",
      "  y = column_or_1d(y, warn=True)\n",
      "C:\\Users\\HepsiBTC\\anaconda3\\Lib\\site-packages\\sklearn\\neural_network\\_multilayer_perceptron.py:1102: DataConversionWarning: A column-vector y was passed when a 1d array was expected. Please change the shape of y to (n_samples, ), for example using ravel().\n",
      "  y = column_or_1d(y, warn=True)\n",
      "C:\\Users\\HepsiBTC\\anaconda3\\Lib\\site-packages\\sklearn\\neural_network\\_multilayer_perceptron.py:1102: DataConversionWarning: A column-vector y was passed when a 1d array was expected. Please change the shape of y to (n_samples, ), for example using ravel().\n",
      "  y = column_or_1d(y, warn=True)\n",
      "C:\\Users\\HepsiBTC\\anaconda3\\Lib\\site-packages\\sklearn\\neural_network\\_multilayer_perceptron.py:1102: DataConversionWarning: A column-vector y was passed when a 1d array was expected. Please change the shape of y to (n_samples, ), for example using ravel().\n",
      "  y = column_or_1d(y, warn=True)\n"
     ]
    },
    {
     "name": "stdout",
     "output_type": "stream",
     "text": [
      "MLPClassifier bitti\n",
      "[0.87214286 0.8702381  0.87261905 0.86547619 0.86357143 0.86404762\n",
      " 0.87428571 0.86452381 0.85904762 0.86547619]\n"
     ]
    }
   ],
   "source": [
    "print(\"MLPClassifier başladı\")\n",
    "from sklearn.neural_network import MLPClassifier\n",
    "MLP = MLPClassifier(random_state=1, max_iter=300)\n",
    "MLP.fit(x_train, y_train)\n",
    "AccuracyMLP = cross_val_score(estimator = MLP, X = x_train,y = y_train, cv=10)\n",
    "y_predMLPC = MLP.predict(x_test)\n",
    "print(\"MLPClassifier bitti\")\n",
    "print(AccuracyMLP)"
   ]
  },
  {
   "cell_type": "code",
   "execution_count": 91,
   "id": "942185c0",
   "metadata": {},
   "outputs": [],
   "source": [
    "accuracy_scoreMLPC= accuracy_score(y_test, y_predMLPC)\n",
    "f1_scoreMLPC = f1_score(y_test, y_predMLPC)\n",
    "recall_scoreMLPC = recall_score(y_test, y_predMLPC)\n",
    "hamming_lossMLPC = hamming_loss(y_test, y_predMLPC)\n",
    "zero_one_lossMLPC = zero_one_loss(y_test, y_predMLPC, normalize=False)\n",
    "precision_scoreMLPC = precision_score(y_test, y_predMLPC)"
   ]
  },
  {
   "cell_type": "code",
   "execution_count": 92,
   "id": "84836363",
   "metadata": {},
   "outputs": [
    {
     "name": "stdout",
     "output_type": "stream",
     "text": [
      "accuracy_scoreMLPClassifier: 0.8678333333333333\n",
      "f1_scoreMLPClassifier: 0.8678259903327962\n",
      "recall_scoreMLPClassifierr: 0.880297565374211\n",
      "hamming_lossMLPClassifier: 0.13216666666666665\n",
      "zero_one_lossMLPClassifier: 2379\n",
      "precision_scoreMLPClassifier: 0.8557028596472006\n"
     ]
    }
   ],
   "source": [
    "print(\"accuracy_scoreMLPClassifier: {}\".format(accuracy_scoreMLPC))\n",
    "print(\"f1_scoreMLPClassifier: {}\".format(f1_scoreMLPC))\n",
    "print(\"recall_scoreMLPClassifierr: {}\".format(recall_scoreMLPC))\n",
    "print(\"hamming_lossMLPClassifier: {}\".format(hamming_lossMLPC))\n",
    "print(\"zero_one_lossMLPClassifier: {}\".format(zero_one_lossMLPC))\n",
    "print(\"precision_scoreMLPClassifier: {}\".format(precision_scoreMLPC))"
   ]
  },
  {
   "cell_type": "code",
   "execution_count": null,
   "id": "a7ff7495",
   "metadata": {},
   "outputs": [],
   "source": []
  },
  {
   "cell_type": "markdown",
   "id": "8181a9d6",
   "metadata": {},
   "source": [
    "## RandomForestClassifier"
   ]
  },
  {
   "cell_type": "code",
   "execution_count": 93,
   "id": "aec103ad",
   "metadata": {
    "collapsed": true
   },
   "outputs": [
    {
     "name": "stdout",
     "output_type": "stream",
     "text": [
      "RandomForestClassifier başladı\n"
     ]
    },
    {
     "name": "stderr",
     "output_type": "stream",
     "text": [
      "C:\\Users\\HepsiBTC\\anaconda3\\Lib\\site-packages\\sklearn\\base.py:1151: DataConversionWarning: A column-vector y was passed when a 1d array was expected. Please change the shape of y to (n_samples,), for example using ravel().\n",
      "  return fit_method(estimator, *args, **kwargs)\n",
      "C:\\Users\\HepsiBTC\\anaconda3\\Lib\\site-packages\\sklearn\\base.py:1151: DataConversionWarning: A column-vector y was passed when a 1d array was expected. Please change the shape of y to (n_samples,), for example using ravel().\n",
      "  return fit_method(estimator, *args, **kwargs)\n",
      "C:\\Users\\HepsiBTC\\anaconda3\\Lib\\site-packages\\sklearn\\base.py:1151: DataConversionWarning: A column-vector y was passed when a 1d array was expected. Please change the shape of y to (n_samples,), for example using ravel().\n",
      "  return fit_method(estimator, *args, **kwargs)\n",
      "C:\\Users\\HepsiBTC\\anaconda3\\Lib\\site-packages\\sklearn\\base.py:1151: DataConversionWarning: A column-vector y was passed when a 1d array was expected. Please change the shape of y to (n_samples,), for example using ravel().\n",
      "  return fit_method(estimator, *args, **kwargs)\n",
      "C:\\Users\\HepsiBTC\\anaconda3\\Lib\\site-packages\\sklearn\\base.py:1151: DataConversionWarning: A column-vector y was passed when a 1d array was expected. Please change the shape of y to (n_samples,), for example using ravel().\n",
      "  return fit_method(estimator, *args, **kwargs)\n",
      "C:\\Users\\HepsiBTC\\anaconda3\\Lib\\site-packages\\sklearn\\base.py:1151: DataConversionWarning: A column-vector y was passed when a 1d array was expected. Please change the shape of y to (n_samples,), for example using ravel().\n",
      "  return fit_method(estimator, *args, **kwargs)\n",
      "C:\\Users\\HepsiBTC\\anaconda3\\Lib\\site-packages\\sklearn\\base.py:1151: DataConversionWarning: A column-vector y was passed when a 1d array was expected. Please change the shape of y to (n_samples,), for example using ravel().\n",
      "  return fit_method(estimator, *args, **kwargs)\n",
      "C:\\Users\\HepsiBTC\\anaconda3\\Lib\\site-packages\\sklearn\\base.py:1151: DataConversionWarning: A column-vector y was passed when a 1d array was expected. Please change the shape of y to (n_samples,), for example using ravel().\n",
      "  return fit_method(estimator, *args, **kwargs)\n",
      "C:\\Users\\HepsiBTC\\anaconda3\\Lib\\site-packages\\sklearn\\base.py:1151: DataConversionWarning: A column-vector y was passed when a 1d array was expected. Please change the shape of y to (n_samples,), for example using ravel().\n",
      "  return fit_method(estimator, *args, **kwargs)\n",
      "C:\\Users\\HepsiBTC\\anaconda3\\Lib\\site-packages\\sklearn\\base.py:1151: DataConversionWarning: A column-vector y was passed when a 1d array was expected. Please change the shape of y to (n_samples,), for example using ravel().\n",
      "  return fit_method(estimator, *args, **kwargs)\n",
      "C:\\Users\\HepsiBTC\\anaconda3\\Lib\\site-packages\\sklearn\\base.py:1151: DataConversionWarning: A column-vector y was passed when a 1d array was expected. Please change the shape of y to (n_samples,), for example using ravel().\n",
      "  return fit_method(estimator, *args, **kwargs)\n"
     ]
    },
    {
     "name": "stdout",
     "output_type": "stream",
     "text": [
      "RandomForestClassifier bitti\n"
     ]
    }
   ],
   "source": [
    "print(\"RandomForestClassifier başladı\")\n",
    "from sklearn.ensemble import RandomForestClassifier\n",
    "RFC = RandomForestClassifier(max_depth=2, random_state=0)\n",
    "RFC.fit(x_train, y_train)\n",
    "AccuracyRFC = cross_val_score(estimator = RFC, X = x_train,y = y_train, cv=10)\n",
    "y_predRFC = RFC.predict(x_test)\n",
    "\n",
    "print(\"RandomForestClassifier bitti\")"
   ]
  },
  {
   "cell_type": "code",
   "execution_count": 94,
   "id": "492ae6f4",
   "metadata": {},
   "outputs": [],
   "source": [
    "accuracy_scoreRFC= accuracy_score(y_test, y_predRFC)\n",
    "f1_scoreRFC = f1_score(y_test, y_predRFC)\n",
    "recall_scoreRFC = recall_score(y_test, y_predRFC)\n",
    "hamming_lossRFC = hamming_loss(y_test, y_predRFC)\n",
    "zero_one_lossRFC = zero_one_loss(y_test, y_predRFC, normalize=False)\n",
    "precision_scoreRFC = precision_score(y_test, y_predRFC)"
   ]
  },
  {
   "cell_type": "code",
   "execution_count": 95,
   "id": "99eed288",
   "metadata": {},
   "outputs": [
    {
     "name": "stdout",
     "output_type": "stream",
     "text": [
      "accuracy_scoreRandomForestClassifier : 0.8183333333333334\n",
      "f1_scoreRandomForestClassifier : 0.8312519351842295\n",
      "recall_scoreRandomForestClassifier : 0.907799819657349\n",
      "hamming_lossRandomForestClassifier : 0.18166666666666667\n",
      "zero_one_lossRandomForestClassifier : 3270\n",
      "precision_scoreRandomForestClassifier r: 0.7666095564439368\n"
     ]
    }
   ],
   "source": [
    "print(\"accuracy_scoreRandomForestClassifier : {}\".format(accuracy_scoreRFC))\n",
    "print(\"f1_scoreRandomForestClassifier : {}\".format(f1_scoreRFC))\n",
    "print(\"recall_scoreRandomForestClassifier : {}\".format(recall_scoreRFC))\n",
    "print(\"hamming_lossRandomForestClassifier : {}\".format(hamming_lossRFC))\n",
    "print(\"zero_one_lossRandomForestClassifier : {}\".format(zero_one_lossRFC))\n",
    "print(\"precision_scoreRandomForestClassifier r: {}\".format(precision_scoreRFC))"
   ]
  },
  {
   "cell_type": "code",
   "execution_count": null,
   "id": "89e7135c",
   "metadata": {},
   "outputs": [],
   "source": []
  },
  {
   "cell_type": "code",
   "execution_count": 98,
   "id": "cce4d96c",
   "metadata": {},
   "outputs": [
    {
     "data": {
      "image/png": "[encoded data removed]",
      "text/plain": [
       "<Figure size 800x800 with 1 Axes>"
      ]
     },
     "metadata": {},
     "output_type": "display_data"
    }
   ],
   "source": [
    "# Roc Eğrisi GNB\n",
    "from sklearn.metrics import roc_curve, auc\n",
    "import matplotlib.pyplot as plt\n",
    "y_scoresBernoulliNB = BNB.predict_proba(x_test)[:, 1]\n",
    "y_scoresGaussianNB = GNB.predict_proba(x_test)[:, 1]\n",
    "y_scoresDtree = Dtree.predict_proba(x_test)[:, 1]\n",
    "y_scoresETC = BC.predict_proba(x_test)[:, 1]\n",
    "y_scoresKNN = KNN.predict_proba(x_test)[:, 1]\n",
    "y_scoresMLP = MLP.predict_proba(x_test)[:, 1]\n",
    "y_scoresRFC = RFC.predict_proba(x_test)[:, 1]\n",
    "\n",
    "# ROC eğrisini hesapla\n",
    "fprBNB, tprBNB, thresholdsBNB = roc_curve(y_test, y_scoresBernoulliNB)\n",
    "roc_aucBNB = auc(fprBNB, tprBNB)\n",
    "\n",
    "fprGNB, tprGNB, thresholdsGNB = roc_curve(y_test, y_scoresGaussianNB)\n",
    "roc_aucGNB = auc(fprGNB, tprGNB)\n",
    "\n",
    "fprDT, tprDT, thresholdsDT = roc_curve(y_test, y_scoresDtree)\n",
    "roc_aucDT = auc(fprDT, tprDT)\n",
    "\n",
    "fprETC, tprETC, thresholdsETC = roc_curve(y_test, y_scoresETC)\n",
    "roc_aucETC = auc(fprETC, tprETC)\n",
    "\n",
    "fprKNN, tprKNN, thresholdsKNN = roc_curve(y_test, y_scoresKNN)\n",
    "roc_aucKNN = auc(fprKNN, tprKNN)\n",
    "\n",
    "fprMLP, tprMLP, thresholdsMLP = roc_curve(y_test, y_scoresMLP)\n",
    "roc_aucMLP = auc(fprMLP, tprMLP)\n",
    "\n",
    "fprRFC, tprRFC, thresholdsRFC = roc_curve(y_test, y_scoresRFC)\n",
    "roc_aucRFC= auc(fprRFC, tprRFC)\n",
    "\n",
    "\n",
    "# ROC eğrisini çiz \n",
    "plt.figure(figsize=(8, 8))\n",
    "plt.plot(fprBNB, tprBNB, color='darkorange', lw=2, label=f'ROC curve BNB (area = {roc_aucBNB:.2f})')\n",
    "plt.plot(fprGNB, tprGNB, color='blue', lw=2, label=f'ROC curve GNB (area = {roc_aucGNB:.2f})')\n",
    "plt.plot(fprDT, tprDT, color='yellow', lw=2, label=f'ROC curve DT (area = {roc_aucDT:.2f})')\n",
    "plt.plot(fprETC, tprETC, color='green', lw=2, label=f'ROC curve RTC (area = {roc_aucETC:.2f})')\n",
    "plt.plot(fprKNN, tprKNN, color='brown', lw=2, label=f'ROC curve KNN (area = {roc_aucKNN:.2f})')\n",
    "plt.plot(fprMLP, tprMLP, color='purple', lw=2, label=f'ROC curve MLP (area = {roc_aucMLP:.2f})')\n",
    "plt.plot(fprRFC, tprRFC, color='pink', lw=2, label=f'ROC curve RFC (area = {roc_aucRFC:.2f})')\n",
    "plt.plot([0, 1], [0, 1], color='navy', lw=2, linestyle='--')\n",
    "plt.xlabel('False Positive Rate')\n",
    "plt.ylabel('True Positive Rate')\n",
    "plt.title('ROC Curve')\n",
    "plt.legend(loc='lower right')\n",
    "plt.show()"
   ]
  }
 ],
 "metadata": {
  "kernelspec": {
   "display_name": "Python 3 (ipykernel)",
   "language": "python",
   "name": "python3"
  },
  "language_info": {
   "codemirror_mode": {
    "name": "ipython",
    "version": 3
   },
   "file_extension": ".py",
   "mimetype": "text/x-python",
   "name": "python",
   "nbconvert_exporter": "python",
   "pygments_lexer": "ipython3",
   "version": "3.11.5"
  }
 },
 "nbformat": 4,
 "nbformat_minor": 5
}
