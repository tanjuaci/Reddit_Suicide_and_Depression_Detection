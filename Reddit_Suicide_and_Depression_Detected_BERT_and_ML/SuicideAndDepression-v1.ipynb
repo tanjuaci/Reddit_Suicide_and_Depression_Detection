{
 "cells": [
  {
   "cell_type": "code",
   "execution_count": 32,
   "id": "69da0edc",
   "metadata": {
    "collapsed": true
   },
   "outputs": [
    {
     "name": "stdout",
     "output_type": "stream",
     "text": [
      "Requirement already satisfied: transformers in c:\\users\\hepsibtc\\anaconda3\\lib\\site-packages (4.32.1)\n",
      "Requirement already satisfied: filelock in c:\\users\\hepsibtc\\anaconda3\\lib\\site-packages (from transformers) (3.9.0)\n",
      "Requirement already satisfied: huggingface-hub<1.0,>=0.15.1 in c:\\users\\hepsibtc\\anaconda3\\lib\\site-packages (from transformers) (0.15.1)\n",
      "Requirement already satisfied: numpy>=1.17 in c:\\users\\hepsibtc\\anaconda3\\lib\\site-packages (from transformers) (1.24.3)\n",
      "Requirement already satisfied: packaging>=20.0 in c:\\users\\hepsibtc\\anaconda3\\lib\\site-packages (from transformers) (23.1)\n",
      "Requirement already satisfied: pyyaml>=5.1 in c:\\users\\hepsibtc\\anaconda3\\lib\\site-packages (from transformers) (6.0)\n",
      "Requirement already satisfied: regex!=2019.12.17 in c:\\users\\hepsibtc\\anaconda3\\lib\\site-packages (from transformers) (2022.7.9)\n",
      "Requirement already satisfied: requests in c:\\users\\hepsibtc\\anaconda3\\lib\\site-packages (from transformers) (2.31.0)\n",
      "Requirement already satisfied: tokenizers!=0.11.3,<0.14,>=0.11.1 in c:\\users\\hepsibtc\\anaconda3\\lib\\site-packages (from transformers) (0.13.2)\n",
      "Requirement already satisfied: safetensors>=0.3.1 in c:\\users\\hepsibtc\\anaconda3\\lib\\site-packages (from transformers) (0.3.2)\n",
      "Requirement already satisfied: tqdm>=4.27 in c:\\users\\hepsibtc\\anaconda3\\lib\\site-packages (from transformers) (4.65.0)\n",
      "Requirement already satisfied: fsspec in c:\\users\\hepsibtc\\anaconda3\\lib\\site-packages (from huggingface-hub<1.0,>=0.15.1->transformers) (2023.4.0)\n",
      "Requirement already satisfied: typing-extensions>=3.7.4.3 in c:\\users\\hepsibtc\\anaconda3\\lib\\site-packages (from huggingface-hub<1.0,>=0.15.1->transformers) (4.11.0)\n",
      "Requirement already satisfied: colorama in c:\\users\\hepsibtc\\anaconda3\\lib\\site-packages (from tqdm>=4.27->transformers) (0.4.6)\n",
      "Requirement already satisfied: charset-normalizer<4,>=2 in c:\\users\\hepsibtc\\anaconda3\\lib\\site-packages (from requests->transformers) (2.0.4)\n",
      "Requirement already satisfied: idna<4,>=2.5 in c:\\users\\hepsibtc\\anaconda3\\lib\\site-packages (from requests->transformers) (3.4)\n",
      "Requirement already satisfied: urllib3<3,>=1.21.1 in c:\\users\\hepsibtc\\anaconda3\\lib\\site-packages (from requests->transformers) (1.26.16)\n",
      "Requirement already satisfied: certifi>=2017.4.17 in c:\\users\\hepsibtc\\anaconda3\\lib\\site-packages (from requests->transformers) (2024.2.2)\n"
     ]
    }
   ],
   "source": [
    "!pip3 install transformers"
   ]
  },
  {
   "cell_type": "code",
   "execution_count": 38,
   "id": "798a40e2",
   "metadata": {},
   "outputs": [],
   "source": [
    "import pandas as pd\n",
    "import numpy as np\n",
    "from sklearn.metrics import accuracy_score, precision_recall_fscore_support, classification_report\n",
    "from sklearn.feature_extraction.text import TfidfVectorizer\n",
    "from transformers import BertForSequenceClassification, BertTokenizerFast\n",
    "from transformers import Trainer, TrainingArguments\n",
    "%matplotlib inline\n",
    "import matplotlib.pyplot as plt\n",
    "import seaborn as sns\n",
    "from matplotlib import ticker"
   ]
  },
  {
   "cell_type": "code",
   "execution_count": 3,
   "id": "cac46ecf",
   "metadata": {},
   "outputs": [
    {
     "data": {
      "text/html": [
       "<div>\n",
       "<style scoped>\n",
       "    .dataframe tbody tr th:only-of-type {\n",
       "        vertical-align: middle;\n",
       "    }\n",
       "\n",
       "    .dataframe tbody tr th {\n",
       "        vertical-align: top;\n",
       "    }\n",
       "\n",
       "    .dataframe thead th {\n",
       "        text-align: right;\n",
       "    }\n",
       "</style>\n",
       "<table border=\"1\" class=\"dataframe\">\n",
       "  <thead>\n",
       "    <tr style=\"text-align: right;\">\n",
       "      <th></th>\n",
       "      <th>Unnamed: 0</th>\n",
       "      <th>text</th>\n",
       "      <th>class</th>\n",
       "    </tr>\n",
       "  </thead>\n",
       "  <tbody>\n",
       "    <tr>\n",
       "      <th>0</th>\n",
       "      <td>2</td>\n",
       "      <td>Ex Wife Threatening SuicideRecently I left my ...</td>\n",
       "      <td>suicide</td>\n",
       "    </tr>\n",
       "    <tr>\n",
       "      <th>1</th>\n",
       "      <td>3</td>\n",
       "      <td>Am I weird I don't get affected by compliments...</td>\n",
       "      <td>non-suicide</td>\n",
       "    </tr>\n",
       "    <tr>\n",
       "      <th>2</th>\n",
       "      <td>4</td>\n",
       "      <td>Finally 2020 is almost over... So I can never ...</td>\n",
       "      <td>non-suicide</td>\n",
       "    </tr>\n",
       "    <tr>\n",
       "      <th>3</th>\n",
       "      <td>8</td>\n",
       "      <td>i need helpjust help me im crying so hard</td>\n",
       "      <td>suicide</td>\n",
       "    </tr>\n",
       "    <tr>\n",
       "      <th>4</th>\n",
       "      <td>9</td>\n",
       "      <td>I’m so lostHello, my name is Adam (16) and I’v...</td>\n",
       "      <td>suicide</td>\n",
       "    </tr>\n",
       "  </tbody>\n",
       "</table>\n",
       "</div>"
      ],
      "text/plain": [
       "   Unnamed: 0                                               text        class\n",
       "0           2  Ex Wife Threatening SuicideRecently I left my ...      suicide\n",
       "1           3  Am I weird I don't get affected by compliments...  non-suicide\n",
       "2           4  Finally 2020 is almost over... So I can never ...  non-suicide\n",
       "3           8          i need helpjust help me im crying so hard      suicide\n",
       "4           9  I’m so lostHello, my name is Adam (16) and I’v...      suicide"
      ]
     },
     "execution_count": 3,
     "metadata": {},
     "output_type": "execute_result"
    }
   ],
   "source": [
    "# veri setini import işlemi\n",
    "import pandas as pd\n",
    "dataframe = pd.read_csv('Suicide_Detection.csv')\n",
    "dataframe.head()"
   ]
  },
  {
   "cell_type": "code",
   "execution_count": 4,
   "id": "a8652ec7",
   "metadata": {},
   "outputs": [
    {
     "data": {
      "text/plain": [
       "((116037, 3), (116037, 3))"
      ]
     },
     "execution_count": 4,
     "metadata": {},
     "output_type": "execute_result"
    }
   ],
   "source": [
    "# Bu komutlar, veriyi sınıflarına göre ayırır ve her bir sınıfın boyutunu kontrol etmenizi sağlar.\n",
    "suicide = dataframe[dataframe['class']=='suicide']\n",
    "non_suicide = dataframe[dataframe['class']=='non-suicide']\n",
    "suicide.shape, non_suicide.shape"
   ]
  },
  {
   "cell_type": "code",
   "execution_count": 5,
   "id": "bb5e6f71",
   "metadata": {},
   "outputs": [
    {
     "data": {
      "text/plain": [
       "(120000, 3)"
      ]
     },
     "execution_count": 5,
     "metadata": {},
     "output_type": "execute_result"
    }
   ],
   "source": [
    "# Bu komutlar, veri setini dengeli hale getirmek için her iki sınıftan eşit sayıda örnek alır ve \n",
    "# yeni birleştirilmiş bir veri seti oluşturur.\n",
    "suicide = suicide.head(60000)\n",
    "non_suicide = non_suicide.head(60000)\n",
    "dataframe = pd.concat([suicide,non_suicide])\n",
    "dataframe.shape"
   ]
  },
  {
   "cell_type": "code",
   "execution_count": 6,
   "id": "613c124a",
   "metadata": {},
   "outputs": [
    {
     "name": "stdout",
     "output_type": "stream",
     "text": [
      "<class 'pandas.core.frame.DataFrame'>\n",
      "Index: 120000 entries, 0 to 120104\n",
      "Data columns (total 3 columns):\n",
      " #   Column      Non-Null Count   Dtype \n",
      "---  ------      --------------   ----- \n",
      " 0   Unnamed: 0  120000 non-null  int64 \n",
      " 1   text        120000 non-null  object\n",
      " 2   class       120000 non-null  object\n",
      "dtypes: int64(1), object(2)\n",
      "memory usage: 3.7+ MB\n"
     ]
    }
   ],
   "source": [
    "dataframe.info()"
   ]
  },
  {
   "cell_type": "code",
   "execution_count": 7,
   "id": "792532bb",
   "metadata": {},
   "outputs": [
    {
     "data": {
      "text/plain": [
       "Unnamed: 0    0\n",
       "text          0\n",
       "class         0\n",
       "dtype: int64"
      ]
     },
     "execution_count": 7,
     "metadata": {},
     "output_type": "execute_result"
    }
   ],
   "source": [
    "# text ve class sütunlarında hiç eksik değer olmadığını gösterir. \n",
    "dataframe.isnull().sum()"
   ]
  },
  {
   "cell_type": "markdown",
   "id": "2ddd6e2b",
   "metadata": {},
   "source": [
    "### ön işleme"
   ]
  },
  {
   "cell_type": "code",
   "execution_count": 8,
   "id": "45a8258f",
   "metadata": {},
   "outputs": [
    {
     "name": "stdout",
     "output_type": "stream",
     "text": [
      "Requirement already satisfied: autocorrect in c:\\users\\hepsibtc\\anaconda3\\lib\\site-packages (2.6.1)\n",
      "Requirement already satisfied: unidecode in c:\\users\\hepsibtc\\anaconda3\\lib\\site-packages (1.2.0)\n",
      "Requirement already satisfied: contractions in c:\\users\\hepsibtc\\anaconda3\\lib\\site-packages (0.1.73)\n",
      "Requirement already satisfied: textsearch>=0.0.21 in c:\\users\\hepsibtc\\anaconda3\\lib\\site-packages (from contractions) (0.0.24)\n",
      "Requirement already satisfied: anyascii in c:\\users\\hepsibtc\\anaconda3\\lib\\site-packages (from textsearch>=0.0.21->contractions) (0.3.2)\n",
      "Requirement already satisfied: pyahocorasick in c:\\users\\hepsibtc\\anaconda3\\lib\\site-packages (from textsearch>=0.0.21->contractions) (2.1.0)\n"
     ]
    }
   ],
   "source": [
    "import re\n",
    "!pip install autocorrect\n",
    "from autocorrect import Speller\n",
    "!pip install unidecode\n",
    "import unidecode\n",
    "!pip install contractions\n",
    "import contractions\n",
    "from string import punctuation"
   ]
  },
  {
   "cell_type": "code",
   "execution_count": 9,
   "id": "b73ccaf9",
   "metadata": {},
   "outputs": [],
   "source": [
    "def text_cleaning(text):\n",
    "    # Gönderilen metni küçük harfe dönüştürür\n",
    "    text = text.lower()\n",
    "\n",
    "    # Metinden tüm HTML etiketlerini temizler.\n",
    "    html_pattern = r'<.*?>'\n",
    "    text = re.sub(pattern=html_pattern, repl=' ', string=text)\n",
    "\n",
    "    # Metinden tüm URL'leri temizler.\n",
    "    url_pattern = r'https?://\\S+|www\\.\\S+'\n",
    "    text = re.sub(pattern=url_pattern, repl=' ', string=text)\n",
    "\n",
    "    # Metinden tüm rakamları temizler.\n",
    "    number_pattern = r'\\d+'\n",
    "    text = re.sub(pattern=number_pattern, repl=' ', string=text)\n",
    "\n",
    "    # Unicode karakterlerini ASCII karakterlere dönüştürür.\n",
    "    text = unidecode.unidecode(text)\n",
    "\n",
    "    # Kısaltmaları genişleterek tam kelimeler haline getirir.\n",
    "    text = contractions.fix(text)\n",
    "\n",
    "    # Noktalama işaretlerini kaldırır.\n",
    "    text = text.translate(str.maketrans('', '', punctuation))\n",
    "\n",
    "    # Tek harfli kelimeleri kaldırır.\n",
    "    single_char_pattern = r'\\s+[a-zA-Z]\\s+'\n",
    "    text = re.sub(pattern=single_char_pattern, repl=\" \", string=text)\n",
    "\n",
    "    # Ekstra boşlukları kaldırır.\n",
    "    space_pattern = r'\\s+'\n",
    "    text = re.sub(pattern=space_pattern, repl=\" \", string=text)\n",
    "\n",
    "    return text"
   ]
  },
  {
   "cell_type": "code",
   "execution_count": 11,
   "id": "954a2f7d",
   "metadata": {},
   "outputs": [
    {
     "data": {
      "text/html": [
       "<div>\n",
       "<style scoped>\n",
       "    .dataframe tbody tr th:only-of-type {\n",
       "        vertical-align: middle;\n",
       "    }\n",
       "\n",
       "    .dataframe tbody tr th {\n",
       "        vertical-align: top;\n",
       "    }\n",
       "\n",
       "    .dataframe thead th {\n",
       "        text-align: right;\n",
       "    }\n",
       "</style>\n",
       "<table border=\"1\" class=\"dataframe\">\n",
       "  <thead>\n",
       "    <tr style=\"text-align: right;\">\n",
       "      <th></th>\n",
       "      <th>Unnamed: 0</th>\n",
       "      <th>text</th>\n",
       "      <th>class</th>\n",
       "    </tr>\n",
       "  </thead>\n",
       "  <tbody>\n",
       "    <tr>\n",
       "      <th>0</th>\n",
       "      <td>2</td>\n",
       "      <td>ex wife threatening suiciderecently left my wi...</td>\n",
       "      <td>suicide</td>\n",
       "    </tr>\n",
       "    <tr>\n",
       "      <th>3</th>\n",
       "      <td>8</td>\n",
       "      <td>i need helpjust help me am crying so hard</td>\n",
       "      <td>suicide</td>\n",
       "    </tr>\n",
       "    <tr>\n",
       "      <th>4</th>\n",
       "      <td>9</td>\n",
       "      <td>i am so losthello my name is adam and have bee...</td>\n",
       "      <td>suicide</td>\n",
       "    </tr>\n",
       "    <tr>\n",
       "      <th>5</th>\n",
       "      <td>11</td>\n",
       "      <td>honetly idki do not know what am even doing he...</td>\n",
       "      <td>suicide</td>\n",
       "    </tr>\n",
       "    <tr>\n",
       "      <th>6</th>\n",
       "      <td>12</td>\n",
       "      <td>trigger warning excuse for self inflicted burn...</td>\n",
       "      <td>suicide</td>\n",
       "    </tr>\n",
       "    <tr>\n",
       "      <th>...</th>\n",
       "      <td>...</td>\n",
       "      <td>...</td>\n",
       "      <td>...</td>\n",
       "    </tr>\n",
       "    <tr>\n",
       "      <th>193</th>\n",
       "      <td>283</td>\n",
       "      <td>the cold sore did me inlet me prefix this with...</td>\n",
       "      <td>suicide</td>\n",
       "    </tr>\n",
       "    <tr>\n",
       "      <th>194</th>\n",
       "      <td>284</td>\n",
       "      <td>cannot shake the suicidal ideationive struggle...</td>\n",
       "      <td>suicide</td>\n",
       "    </tr>\n",
       "    <tr>\n",
       "      <th>195</th>\n",
       "      <td>285</td>\n",
       "      <td>can somebody talk to methere is shit in my lif...</td>\n",
       "      <td>suicide</td>\n",
       "    </tr>\n",
       "    <tr>\n",
       "      <th>196</th>\n",
       "      <td>287</td>\n",
       "      <td>police visit ukthrowaway due to obvious reason...</td>\n",
       "      <td>suicide</td>\n",
       "    </tr>\n",
       "    <tr>\n",
       "      <th>197</th>\n",
       "      <td>288</td>\n",
       "      <td>i am fucked all of this is an illusioni have r...</td>\n",
       "      <td>suicide</td>\n",
       "    </tr>\n",
       "  </tbody>\n",
       "</table>\n",
       "<p>100 rows × 3 columns</p>\n",
       "</div>"
      ],
      "text/plain": [
       "     Unnamed: 0                                               text    class\n",
       "0             2  ex wife threatening suiciderecently left my wi...  suicide\n",
       "3             8          i need helpjust help me am crying so hard  suicide\n",
       "4             9  i am so losthello my name is adam and have bee...  suicide\n",
       "5            11  honetly idki do not know what am even doing he...  suicide\n",
       "6            12  trigger warning excuse for self inflicted burn...  suicide\n",
       "..          ...                                                ...      ...\n",
       "193         283  the cold sore did me inlet me prefix this with...  suicide\n",
       "194         284  cannot shake the suicidal ideationive struggle...  suicide\n",
       "195         285  can somebody talk to methere is shit in my lif...  suicide\n",
       "196         287  police visit ukthrowaway due to obvious reason...  suicide\n",
       "197         288  i am fucked all of this is an illusioni have r...  suicide\n",
       "\n",
       "[100 rows x 3 columns]"
      ]
     },
     "execution_count": 11,
     "metadata": {},
     "output_type": "execute_result"
    }
   ],
   "source": [
    "dataframe['text'] = dataframe['text'].apply(text_cleaning)\n",
    "dataframe.head(100)"
   ]
  },
  {
   "cell_type": "code",
   "execution_count": 12,
   "id": "3afec89c",
   "metadata": {},
   "outputs": [
    {
     "name": "stderr",
     "output_type": "stream",
     "text": [
      "[nltk_data] Downloading package stopwords to\n",
      "[nltk_data]     C:\\Users\\HepsiBTC\\AppData\\Roaming\\nltk_data...\n",
      "[nltk_data]   Package stopwords is already up-to-date!\n",
      "[nltk_data] Downloading package punkt to\n",
      "[nltk_data]     C:\\Users\\HepsiBTC\\AppData\\Roaming\\nltk_data...\n",
      "[nltk_data]   Package punkt is already up-to-date!\n"
     ]
    }
   ],
   "source": [
    "import nltk\n",
    "from nltk.corpus import stopwords\n",
    "from nltk.tokenize import word_tokenize \n",
    "nltk.download('stopwords')\n",
    "nltk.download('punkt')\n",
    "lists = stopwords.words('english')"
   ]
  },
  {
   "cell_type": "code",
   "execution_count": 13,
   "id": "38930aa8",
   "metadata": {},
   "outputs": [],
   "source": [
    "stopwords_list = ['i', 'am', 'is','are','this','that','then','those','have','has','it','can','could','the','had','was','were','been','them',\n",
    "                  'what','whose','whom','who','do','did','does' 'yet', 'though', 'wherein', 'really', 'show', 'then', 'rather', 'same', 'con', 'call', 'is', 'twenty', 'side', 'go', 'namely',\n",
    "                  'every', 'top', 'for', \"'m\", 'with', 'either', 'because', 'two', 'well', 'when', 'those', 'under', 'thin', 'amount', 'upon', \n",
    "                  'kg', 'the', \"that'll\", 'ca', 'even', 'very', 'into', 'by', '‘m', 'keep', 'although', 'done', 'bottom', 'detail', 'whatever', \n",
    "                  'from', 'formerly', 'these', 'enough', 'twelve', 'of', 'too', 'already', 'move', 'something', 'few', 'nothing', 'they', 'does',\n",
    "                  'us', 'next', 'cry', 'but', 'eight', '‘s', 'however', 'four', \"'ll\", 'has', 'over', 'someone', 'afterwards', 'myself', 'have',\n",
    "                  'would', 'anywhere', 'hereupon', 'using', 'everything', 'his', 'put', 'many', 'more', 'within', 'which', 'describe', 'thereby',\n",
    "                  'nine', 'elsewhere', 'other', 'he', 'if', 'per', 'your', 's', 'be', 'than', 'now', 'sometime', 'herein', 'why', '‘d', 'whereas',\n",
    "                  'behind', 'couldnt', 'de', \"'re\", 'least', 'latter', 'whereafter', 'part', 'after', 'front', 'interest', \"you'd\", 'whose', 'fire',\n",
    "                  'sincere', 'down', 'to', 'whence', 'ours', \"'s\", 'all', 'noone', 'just', 'anyhow', 'ie', 'having', 'her', 'been', 'get', 'former', \n",
    "                  'throughout', 'above', '’d', 'cannot', 'almost', 'do', 'quite', 'seem', 'give', 'first', 'several', 'also', 'seems', 'became', '’m',\n",
    "                  'sixty', 'anyway', '‘re', 'on', \"you're\", 'onto', 'co', 'third', 'fifty', 'had', 'seemed', '’s', 'yourselves', 'until', 'an', 'mine',\n",
    "                  'across', 'sometimes', 'hereby', 'eleven', 'might', 'mostly', 'un', 'i', \"'d\", 'itself', 'most', 'beforehand', 'five', 'beyond',\n",
    "                  'herself', \"you've\", 'unless', 'regarding', 'there', 'doesn', 'while', 'whoever', \"should've\", 'whereupon', 'name', 'further', 'o', \n",
    "                  'nobody', 'whereby', 'others', 'between', 'thus', 'any', \"you'll\", 'found', 'amongst', 'hers', 'wherever', 'ltd', 'still', 'somehow',\n",
    "                  'often', 'km', 'becoming', 'six', 'can', \"'ve\", 'make', 'hence', 'around', 'both', 'our', 'along', 'latterly', 'please', 'via', 'whole',\n",
    "                  'system', 've', 'd', 'you', 'themselves', 'here', 'used', 'in', 'forty', 'each', 'find', 'during', 'ain', 'ten', 'him', 'nevertheless',\n",
    "                  \"she's\", 'me', 'them', 'ma', 'meanwhile', 'and', 'y', 'did', 'fifteen', 'serious', '’re', \"it's\", '’ll', 'that', 'alone', 'together', \n",
    "                  'where', 'hereafter', 'once', 'himself', 'could', 'made', 'among', 'whom', 'cant', 'doing', 'again', 'therefore', 'beside', 'hundred',\n",
    "                  'three', 'etc', 'moreover', 'various', 'may', 'since', 'always', 'seeming', 'toward', 'are', 'll', 'everywhere', 'a', 'empty', 'yours',\n",
    "                  'theirs', 'back', 'else', 'own', 'as', 'somewhere', 'bill', '‘ll', 're', 'through', 'last', 'nowhere', 'what', 'take', 'computer',\n",
    "                  'yourself', 'eg', 'perhaps', 'thereupon', 'ourselves', 'against', 'inc', 'she', 'whether', 'their', 'm', 'such', 'thick', 'anything',\n",
    "                  '’ve', 'neither', 'none', 'amoungst', 'one', 'were', 'thru', 'am', 'about', 'without', 'up', 'otherwise', 'except', 'who', 'due',\n",
    "                  'thereafter', 'ever', 'much', 'out', 'how', 'whenever', 'before', 'it', 'some', 'being', 'mill', 'or', 'its', 'will', 'become',\n",
    "                  'besides', 'say', 'therein', 'another', 'see', 'anyone', 'becomes', 'never', 'towards', 'everyone', 'below', 'full', 'my', 'only', \n",
    "                  'fill', 'we', 'should', 'thence', 'indeed', 'this', 'was', 'less', 'so', 't', 'at', 'must', 'whither', 'off'\n",
    "]"
   ]
  },
  {
   "cell_type": "code",
   "execution_count": 14,
   "id": "65c44f65",
   "metadata": {},
   "outputs": [],
   "source": [
    "def remove_stopwords(text):\n",
    "    token = word_tokenize(text)\n",
    "    token_without_stopwords = []\n",
    "    for words in token:\n",
    "        if words not in stopwords_list:\n",
    "            token_without_stopwords.append(words)\n",
    "    text = \" \".join(token_without_stopwords)\n",
    "    return text"
   ]
  },
  {
   "cell_type": "code",
   "execution_count": 15,
   "id": "0d1e6ce7",
   "metadata": {},
   "outputs": [
    {
     "data": {
      "text/html": [
       "<div>\n",
       "<style scoped>\n",
       "    .dataframe tbody tr th:only-of-type {\n",
       "        vertical-align: middle;\n",
       "    }\n",
       "\n",
       "    .dataframe tbody tr th {\n",
       "        vertical-align: top;\n",
       "    }\n",
       "\n",
       "    .dataframe thead th {\n",
       "        text-align: right;\n",
       "    }\n",
       "</style>\n",
       "<table border=\"1\" class=\"dataframe\">\n",
       "  <thead>\n",
       "    <tr style=\"text-align: right;\">\n",
       "      <th></th>\n",
       "      <th>Unnamed: 0</th>\n",
       "      <th>text</th>\n",
       "      <th>class</th>\n",
       "    </tr>\n",
       "  </thead>\n",
       "  <tbody>\n",
       "    <tr>\n",
       "      <th>0</th>\n",
       "      <td>2</td>\n",
       "      <td>ex wife threatening suiciderecently left wife ...</td>\n",
       "      <td>suicide</td>\n",
       "    </tr>\n",
       "    <tr>\n",
       "      <th>3</th>\n",
       "      <td>8</td>\n",
       "      <td>need helpjust help crying hard</td>\n",
       "      <td>suicide</td>\n",
       "    </tr>\n",
       "    <tr>\n",
       "      <th>4</th>\n",
       "      <td>9</td>\n",
       "      <td>losthello adam struggling years afraid past ye...</td>\n",
       "      <td>suicide</td>\n",
       "    </tr>\n",
       "    <tr>\n",
       "      <th>5</th>\n",
       "      <td>11</td>\n",
       "      <td>honetly idki not know feel like feel unbearabl...</td>\n",
       "      <td>suicide</td>\n",
       "    </tr>\n",
       "    <tr>\n",
       "      <th>6</th>\n",
       "      <td>12</td>\n",
       "      <td>trigger warning excuse self inflicted burnsi k...</td>\n",
       "      <td>suicide</td>\n",
       "    </tr>\n",
       "    <tr>\n",
       "      <th>...</th>\n",
       "      <td>...</td>\n",
       "      <td>...</td>\n",
       "      <td>...</td>\n",
       "    </tr>\n",
       "    <tr>\n",
       "      <th>193</th>\n",
       "      <td>283</td>\n",
       "      <td>cold sore inlet prefix saying cold sores not b...</td>\n",
       "      <td>suicide</td>\n",
       "    </tr>\n",
       "    <tr>\n",
       "      <th>194</th>\n",
       "      <td>284</td>\n",
       "      <td>not shake suicidal ideationive struggled depre...</td>\n",
       "      <td>suicide</td>\n",
       "    </tr>\n",
       "    <tr>\n",
       "      <th>195</th>\n",
       "      <td>285</td>\n",
       "      <td>somebody talk methere shit life need talk mayb...</td>\n",
       "      <td>suicide</td>\n",
       "    </tr>\n",
       "    <tr>\n",
       "      <th>196</th>\n",
       "      <td>287</td>\n",
       "      <td>police visit ukthrowaway obvious reasons night...</td>\n",
       "      <td>suicide</td>\n",
       "    </tr>\n",
       "    <tr>\n",
       "      <th>197</th>\n",
       "      <td>288</td>\n",
       "      <td>fucked illusioni recently lost felt like broth...</td>\n",
       "      <td>suicide</td>\n",
       "    </tr>\n",
       "  </tbody>\n",
       "</table>\n",
       "<p>100 rows × 3 columns</p>\n",
       "</div>"
      ],
      "text/plain": [
       "     Unnamed: 0                                               text    class\n",
       "0             2  ex wife threatening suiciderecently left wife ...  suicide\n",
       "3             8                     need helpjust help crying hard  suicide\n",
       "4             9  losthello adam struggling years afraid past ye...  suicide\n",
       "5            11  honetly idki not know feel like feel unbearabl...  suicide\n",
       "6            12  trigger warning excuse self inflicted burnsi k...  suicide\n",
       "..          ...                                                ...      ...\n",
       "193         283  cold sore inlet prefix saying cold sores not b...  suicide\n",
       "194         284  not shake suicidal ideationive struggled depre...  suicide\n",
       "195         285  somebody talk methere shit life need talk mayb...  suicide\n",
       "196         287  police visit ukthrowaway obvious reasons night...  suicide\n",
       "197         288  fucked illusioni recently lost felt like broth...  suicide\n",
       "\n",
       "[100 rows x 3 columns]"
      ]
     },
     "execution_count": 15,
     "metadata": {},
     "output_type": "execute_result"
    }
   ],
   "source": [
    "dataframe['text'] = dataframe['text'].apply(remove_stopwords)\n",
    "dataframe.head(100)"
   ]
  },
  {
   "cell_type": "code",
   "execution_count": 17,
   "id": "880de6cc",
   "metadata": {},
   "outputs": [],
   "source": [
    "dataframe['class']=pd.factorize(dataframe['class'])[0]"
   ]
  },
  {
   "cell_type": "code",
   "execution_count": 19,
   "id": "34668ecf",
   "metadata": {},
   "outputs": [
    {
     "data": {
      "text/html": [
       "<div>\n",
       "<style scoped>\n",
       "    .dataframe tbody tr th:only-of-type {\n",
       "        vertical-align: middle;\n",
       "    }\n",
       "\n",
       "    .dataframe tbody tr th {\n",
       "        vertical-align: top;\n",
       "    }\n",
       "\n",
       "    .dataframe thead th {\n",
       "        text-align: right;\n",
       "    }\n",
       "</style>\n",
       "<table border=\"1\" class=\"dataframe\">\n",
       "  <thead>\n",
       "    <tr style=\"text-align: right;\">\n",
       "      <th></th>\n",
       "      <th>Unnamed: 0</th>\n",
       "      <th>text</th>\n",
       "      <th>class</th>\n",
       "    </tr>\n",
       "  </thead>\n",
       "  <tbody>\n",
       "    <tr>\n",
       "      <th>0</th>\n",
       "      <td>2</td>\n",
       "      <td>ex wife threatening suiciderecently left wife ...</td>\n",
       "      <td>0</td>\n",
       "    </tr>\n",
       "    <tr>\n",
       "      <th>3</th>\n",
       "      <td>8</td>\n",
       "      <td>need helpjust help crying hard</td>\n",
       "      <td>0</td>\n",
       "    </tr>\n",
       "    <tr>\n",
       "      <th>4</th>\n",
       "      <td>9</td>\n",
       "      <td>losthello adam struggling years afraid past ye...</td>\n",
       "      <td>0</td>\n",
       "    </tr>\n",
       "    <tr>\n",
       "      <th>5</th>\n",
       "      <td>11</td>\n",
       "      <td>honetly idki not know feel like feel unbearabl...</td>\n",
       "      <td>0</td>\n",
       "    </tr>\n",
       "    <tr>\n",
       "      <th>6</th>\n",
       "      <td>12</td>\n",
       "      <td>trigger warning excuse self inflicted burnsi k...</td>\n",
       "      <td>0</td>\n",
       "    </tr>\n",
       "    <tr>\n",
       "      <th>7</th>\n",
       "      <td>13</td>\n",
       "      <td>ends tonighti not anymore quit</td>\n",
       "      <td>0</td>\n",
       "    </tr>\n",
       "    <tr>\n",
       "      <th>9</th>\n",
       "      <td>18</td>\n",
       "      <td>life years oldhello year old balding male hair...</td>\n",
       "      <td>0</td>\n",
       "    </tr>\n",
       "    <tr>\n",
       "      <th>10</th>\n",
       "      <td>19</td>\n",
       "      <td>took rest sleeping pills painkillersi not wait...</td>\n",
       "      <td>0</td>\n",
       "    </tr>\n",
       "    <tr>\n",
       "      <th>11</th>\n",
       "      <td>20</td>\n",
       "      <td>imagine getting old neitherwrinkles weight gai...</td>\n",
       "      <td>0</td>\n",
       "    </tr>\n",
       "    <tr>\n",
       "      <th>12</th>\n",
       "      <td>21</td>\n",
       "      <td>think getting hit train painfulguns hard come ...</td>\n",
       "      <td>0</td>\n",
       "    </tr>\n",
       "  </tbody>\n",
       "</table>\n",
       "</div>"
      ],
      "text/plain": [
       "    Unnamed: 0                                               text  class\n",
       "0            2  ex wife threatening suiciderecently left wife ...      0\n",
       "3            8                     need helpjust help crying hard      0\n",
       "4            9  losthello adam struggling years afraid past ye...      0\n",
       "5           11  honetly idki not know feel like feel unbearabl...      0\n",
       "6           12  trigger warning excuse self inflicted burnsi k...      0\n",
       "7           13                     ends tonighti not anymore quit      0\n",
       "9           18  life years oldhello year old balding male hair...      0\n",
       "10          19  took rest sleeping pills painkillersi not wait...      0\n",
       "11          20  imagine getting old neitherwrinkles weight gai...      0\n",
       "12          21  think getting hit train painfulguns hard come ...      0"
      ]
     },
     "execution_count": 19,
     "metadata": {},
     "output_type": "execute_result"
    }
   ],
   "source": [
    "dataframe.head(10)"
   ]
  },
  {
   "cell_type": "markdown",
   "id": "4cceb5e5",
   "metadata": {},
   "source": [
    "### Verileri eğitim ve test kümelerine ayırma"
   ]
  },
  {
   "cell_type": "code",
   "execution_count": 20,
   "id": "a04adc4b",
   "metadata": {},
   "outputs": [],
   "source": [
    "from sklearn.model_selection import train_test_split\n",
    "train,test = train_test_split(dataframe, test_size=0.33, random_state=42)"
   ]
  },
  {
   "cell_type": "code",
   "execution_count": 21,
   "id": "71fae6ae",
   "metadata": {},
   "outputs": [],
   "source": [
    "train=train[[\"text\",\"class\"]]\n",
    "test=test[[\"text\",\"class\"]]"
   ]
  },
  {
   "cell_type": "code",
   "execution_count": 22,
   "id": "4ead14ec",
   "metadata": {},
   "outputs": [
    {
     "data": {
      "text/html": [
       "<div>\n",
       "<style scoped>\n",
       "    .dataframe tbody tr th:only-of-type {\n",
       "        vertical-align: middle;\n",
       "    }\n",
       "\n",
       "    .dataframe tbody tr th {\n",
       "        vertical-align: top;\n",
       "    }\n",
       "\n",
       "    .dataframe thead th {\n",
       "        text-align: right;\n",
       "    }\n",
       "</style>\n",
       "<table border=\"1\" class=\"dataframe\">\n",
       "  <thead>\n",
       "    <tr style=\"text-align: right;\">\n",
       "      <th></th>\n",
       "      <th>text</th>\n",
       "      <th>class</th>\n",
       "    </tr>\n",
       "  </thead>\n",
       "  <tbody>\n",
       "    <tr>\n",
       "      <th>2102</th>\n",
       "      <td>need someonenot great place right</td>\n",
       "      <td>0</td>\n",
       "    </tr>\n",
       "    <tr>\n",
       "      <th>46133</th>\n",
       "      <td>not depressed suicidal thoughtsim yrs old reme...</td>\n",
       "      <td>0</td>\n",
       "    </tr>\n",
       "    <tr>\n",
       "      <th>9385</th>\n",
       "      <td>hard days waitingthe days extremely hard thoug...</td>\n",
       "      <td>0</td>\n",
       "    </tr>\n",
       "    <tr>\n",
       "      <th>77370</th>\n",
       "      <td>look forward toedit appreciate mail gotten not...</td>\n",
       "      <td>0</td>\n",
       "    </tr>\n",
       "    <tr>\n",
       "      <th>24475</th>\n",
       "      <td>cool want dispensary alice wonderland themed s...</td>\n",
       "      <td>1</td>\n",
       "    </tr>\n",
       "  </tbody>\n",
       "</table>\n",
       "</div>"
      ],
      "text/plain": [
       "                                                    text  class\n",
       "2102                   need someonenot great place right      0\n",
       "46133  not depressed suicidal thoughtsim yrs old reme...      0\n",
       "9385   hard days waitingthe days extremely hard thoug...      0\n",
       "77370  look forward toedit appreciate mail gotten not...      0\n",
       "24475  cool want dispensary alice wonderland themed s...      1"
      ]
     },
     "execution_count": 22,
     "metadata": {},
     "output_type": "execute_result"
    }
   ],
   "source": [
    "train.head()"
   ]
  },
  {
   "cell_type": "markdown",
   "id": "a09bce72",
   "metadata": {},
   "source": [
    "## BERT"
   ]
  },
  {
   "cell_type": "code",
   "execution_count": 27,
   "id": "ba6816e4",
   "metadata": {
    "scrolled": true
   },
   "outputs": [
    {
     "name": "stdout",
     "output_type": "stream",
     "text": [
      "Requirement already satisfied: simpletransformers in c:\\users\\hepsibtc\\anaconda3\\lib\\site-packages (0.70.0)\n",
      "Requirement already satisfied: numpy in c:\\users\\hepsibtc\\anaconda3\\lib\\site-packages (from simpletransformers) (1.24.3)\n",
      "Requirement already satisfied: requests in c:\\users\\hepsibtc\\anaconda3\\lib\\site-packages (from simpletransformers) (2.31.0)\n",
      "Requirement already satisfied: tqdm>=4.47.0 in c:\\users\\hepsibtc\\anaconda3\\lib\\site-packages (from simpletransformers) (4.65.0)\n",
      "Requirement already satisfied: regex in c:\\users\\hepsibtc\\anaconda3\\lib\\site-packages (from simpletransformers) (2022.7.9)\n",
      "Requirement already satisfied: transformers>=4.31.0 in c:\\users\\hepsibtc\\anaconda3\\lib\\site-packages (from simpletransformers) (4.32.1)\n",
      "Requirement already satisfied: datasets in c:\\users\\hepsibtc\\anaconda3\\lib\\site-packages (from simpletransformers) (2.12.0)\n",
      "Requirement already satisfied: scipy in c:\\users\\hepsibtc\\anaconda3\\lib\\site-packages (from simpletransformers) (1.11.1)\n",
      "Requirement already satisfied: scikit-learn in c:\\users\\hepsibtc\\anaconda3\\lib\\site-packages (from simpletransformers) (1.3.0)\n",
      "Requirement already satisfied: seqeval in c:\\users\\hepsibtc\\anaconda3\\lib\\site-packages (from simpletransformers) (1.2.2)\n",
      "Requirement already satisfied: tensorboard in c:\\users\\hepsibtc\\anaconda3\\lib\\site-packages (from simpletransformers) (2.16.2)\n",
      "Requirement already satisfied: tensorboardx in c:\\users\\hepsibtc\\anaconda3\\lib\\site-packages (from simpletransformers) (2.6.2.2)\n",
      "Requirement already satisfied: pandas in c:\\users\\hepsibtc\\anaconda3\\lib\\site-packages (from simpletransformers) (2.0.3)\n",
      "Requirement already satisfied: tokenizers in c:\\users\\hepsibtc\\anaconda3\\lib\\site-packages (from simpletransformers) (0.13.2)\n",
      "Requirement already satisfied: wandb>=0.10.32 in c:\\users\\hepsibtc\\anaconda3\\lib\\site-packages (from simpletransformers) (0.17.0)\n",
      "Requirement already satisfied: streamlit in c:\\users\\hepsibtc\\anaconda3\\lib\\site-packages (from simpletransformers) (1.35.0)\n",
      "Requirement already satisfied: sentencepiece in c:\\users\\hepsibtc\\anaconda3\\lib\\site-packages (from simpletransformers) (0.2.0)\n",
      "Requirement already satisfied: colorama in c:\\users\\hepsibtc\\anaconda3\\lib\\site-packages (from tqdm>=4.47.0->simpletransformers) (0.4.6)\n",
      "Requirement already satisfied: filelock in c:\\users\\hepsibtc\\anaconda3\\lib\\site-packages (from transformers>=4.31.0->simpletransformers) (3.9.0)\n",
      "Requirement already satisfied: huggingface-hub<1.0,>=0.15.1 in c:\\users\\hepsibtc\\anaconda3\\lib\\site-packages (from transformers>=4.31.0->simpletransformers) (0.15.1)\n",
      "Requirement already satisfied: packaging>=20.0 in c:\\users\\hepsibtc\\anaconda3\\lib\\site-packages (from transformers>=4.31.0->simpletransformers) (23.1)\n",
      "Requirement already satisfied: pyyaml>=5.1 in c:\\users\\hepsibtc\\anaconda3\\lib\\site-packages (from transformers>=4.31.0->simpletransformers) (6.0)\n",
      "Requirement already satisfied: safetensors>=0.3.1 in c:\\users\\hepsibtc\\anaconda3\\lib\\site-packages (from transformers>=4.31.0->simpletransformers) (0.3.2)\n",
      "Requirement already satisfied: click!=8.0.0,>=7.1 in c:\\users\\hepsibtc\\anaconda3\\lib\\site-packages (from wandb>=0.10.32->simpletransformers) (8.0.4)\n",
      "Requirement already satisfied: docker-pycreds>=0.4.0 in c:\\users\\hepsibtc\\anaconda3\\lib\\site-packages (from wandb>=0.10.32->simpletransformers) (0.4.0)\n",
      "Requirement already satisfied: gitpython!=3.1.29,>=1.0.0 in c:\\users\\hepsibtc\\anaconda3\\lib\\site-packages (from wandb>=0.10.32->simpletransformers) (3.1.43)\n",
      "Requirement already satisfied: platformdirs in c:\\users\\hepsibtc\\anaconda3\\lib\\site-packages (from wandb>=0.10.32->simpletransformers) (3.10.0)\n",
      "Requirement already satisfied: protobuf!=4.21.0,<5,>=3.19.0 in c:\\users\\hepsibtc\\anaconda3\\lib\\site-packages (from wandb>=0.10.32->simpletransformers) (4.25.3)\n",
      "Requirement already satisfied: psutil>=5.0.0 in c:\\users\\hepsibtc\\anaconda3\\lib\\site-packages (from wandb>=0.10.32->simpletransformers) (5.9.0)\n",
      "Requirement already satisfied: sentry-sdk>=1.0.0 in c:\\users\\hepsibtc\\anaconda3\\lib\\site-packages (from wandb>=0.10.32->simpletransformers) (2.3.1)\n",
      "Requirement already satisfied: setproctitle in c:\\users\\hepsibtc\\anaconda3\\lib\\site-packages (from wandb>=0.10.32->simpletransformers) (1.3.3)\n",
      "Requirement already satisfied: setuptools in c:\\users\\hepsibtc\\anaconda3\\lib\\site-packages (from wandb>=0.10.32->simpletransformers) (68.0.0)\n",
      "Requirement already satisfied: charset-normalizer<4,>=2 in c:\\users\\hepsibtc\\anaconda3\\lib\\site-packages (from requests->simpletransformers) (2.0.4)\n",
      "Requirement already satisfied: idna<4,>=2.5 in c:\\users\\hepsibtc\\anaconda3\\lib\\site-packages (from requests->simpletransformers) (3.4)\n",
      "Requirement already satisfied: urllib3<3,>=1.21.1 in c:\\users\\hepsibtc\\anaconda3\\lib\\site-packages (from requests->simpletransformers) (1.26.16)\n",
      "Requirement already satisfied: certifi>=2017.4.17 in c:\\users\\hepsibtc\\anaconda3\\lib\\site-packages (from requests->simpletransformers) (2024.2.2)\n",
      "Requirement already satisfied: pyarrow>=8.0.0 in c:\\users\\hepsibtc\\anaconda3\\lib\\site-packages (from datasets->simpletransformers) (11.0.0)\n",
      "Requirement already satisfied: dill<0.3.7,>=0.3.0 in c:\\users\\hepsibtc\\anaconda3\\lib\\site-packages (from datasets->simpletransformers) (0.3.6)\n",
      "Requirement already satisfied: xxhash in c:\\users\\hepsibtc\\anaconda3\\lib\\site-packages (from datasets->simpletransformers) (2.0.2)\n",
      "Requirement already satisfied: multiprocess in c:\\users\\hepsibtc\\anaconda3\\lib\\site-packages (from datasets->simpletransformers) (0.70.14)\n",
      "Requirement already satisfied: fsspec[http]>=2021.11.1 in c:\\users\\hepsibtc\\anaconda3\\lib\\site-packages (from datasets->simpletransformers) (2023.4.0)\n",
      "Requirement already satisfied: aiohttp in c:\\users\\hepsibtc\\anaconda3\\lib\\site-packages (from datasets->simpletransformers) (3.8.5)\n",
      "Requirement already satisfied: responses<0.19 in c:\\users\\hepsibtc\\anaconda3\\lib\\site-packages (from datasets->simpletransformers) (0.13.3)\n",
      "Requirement already satisfied: python-dateutil>=2.8.2 in c:\\users\\hepsibtc\\anaconda3\\lib\\site-packages (from pandas->simpletransformers) (2.8.2)\n",
      "Requirement already satisfied: pytz>=2020.1 in c:\\users\\hepsibtc\\anaconda3\\lib\\site-packages (from pandas->simpletransformers) (2023.3.post1)\n",
      "Requirement already satisfied: tzdata>=2022.1 in c:\\users\\hepsibtc\\anaconda3\\lib\\site-packages (from pandas->simpletransformers) (2023.3)\n",
      "Requirement already satisfied: joblib>=1.1.1 in c:\\users\\hepsibtc\\anaconda3\\lib\\site-packages (from scikit-learn->simpletransformers) (1.2.0)\n",
      "Requirement already satisfied: threadpoolctl>=2.0.0 in c:\\users\\hepsibtc\\anaconda3\\lib\\site-packages (from scikit-learn->simpletransformers) (2.2.0)\n",
      "Requirement already satisfied: altair<6,>=4.0 in c:\\users\\hepsibtc\\anaconda3\\lib\\site-packages (from streamlit->simpletransformers) (5.3.0)\n",
      "Requirement already satisfied: blinker<2,>=1.0.0 in c:\\users\\hepsibtc\\anaconda3\\lib\\site-packages (from streamlit->simpletransformers) (1.8.2)\n",
      "Requirement already satisfied: cachetools<6,>=4.0 in c:\\users\\hepsibtc\\anaconda3\\lib\\site-packages (from streamlit->simpletransformers) (5.3.3)\n",
      "Requirement already satisfied: pillow<11,>=7.1.0 in c:\\users\\hepsibtc\\anaconda3\\lib\\site-packages (from streamlit->simpletransformers) (10.0.1)\n",
      "Requirement already satisfied: rich<14,>=10.14.0 in c:\\users\\hepsibtc\\anaconda3\\lib\\site-packages (from streamlit->simpletransformers) (13.7.1)\n",
      "Requirement already satisfied: tenacity<9,>=8.1.0 in c:\\users\\hepsibtc\\anaconda3\\lib\\site-packages (from streamlit->simpletransformers) (8.2.2)\n",
      "Requirement already satisfied: toml<2,>=0.10.1 in c:\\users\\hepsibtc\\anaconda3\\lib\\site-packages (from streamlit->simpletransformers) (0.10.2)\n",
      "Requirement already satisfied: typing-extensions<5,>=4.3.0 in c:\\users\\hepsibtc\\anaconda3\\lib\\site-packages (from streamlit->simpletransformers) (4.11.0)\n",
      "Requirement already satisfied: pydeck<1,>=0.8.0b4 in c:\\users\\hepsibtc\\anaconda3\\lib\\site-packages (from streamlit->simpletransformers) (0.9.1)\n",
      "Requirement already satisfied: tornado<7,>=6.0.3 in c:\\users\\hepsibtc\\anaconda3\\lib\\site-packages (from streamlit->simpletransformers) (6.3.2)\n",
      "Requirement already satisfied: watchdog>=2.1.5 in c:\\users\\hepsibtc\\anaconda3\\lib\\site-packages (from streamlit->simpletransformers) (2.1.6)\n",
      "Requirement already satisfied: absl-py>=0.4 in c:\\users\\hepsibtc\\anaconda3\\lib\\site-packages (from tensorboard->simpletransformers) (2.1.0)\n",
      "Requirement already satisfied: grpcio>=1.48.2 in c:\\users\\hepsibtc\\anaconda3\\lib\\site-packages (from tensorboard->simpletransformers) (1.64.0)\n",
      "Requirement already satisfied: markdown>=2.6.8 in c:\\users\\hepsibtc\\anaconda3\\lib\\site-packages (from tensorboard->simpletransformers) (3.4.1)\n",
      "Requirement already satisfied: six>1.9 in c:\\users\\hepsibtc\\anaconda3\\lib\\site-packages (from tensorboard->simpletransformers) (1.16.0)\n",
      "Requirement already satisfied: tensorboard-data-server<0.8.0,>=0.7.0 in c:\\users\\hepsibtc\\anaconda3\\lib\\site-packages (from tensorboard->simpletransformers) (0.7.2)\n",
      "Requirement already satisfied: werkzeug>=1.0.1 in c:\\users\\hepsibtc\\anaconda3\\lib\\site-packages (from tensorboard->simpletransformers) (2.2.3)\n",
      "Requirement already satisfied: jinja2 in c:\\users\\hepsibtc\\anaconda3\\lib\\site-packages (from altair<6,>=4.0->streamlit->simpletransformers) (3.1.2)\n",
      "Requirement already satisfied: jsonschema>=3.0 in c:\\users\\hepsibtc\\anaconda3\\lib\\site-packages (from altair<6,>=4.0->streamlit->simpletransformers) (4.17.3)\n",
      "Requirement already satisfied: toolz in c:\\users\\hepsibtc\\anaconda3\\lib\\site-packages (from altair<6,>=4.0->streamlit->simpletransformers) (0.12.0)\n",
      "Requirement already satisfied: attrs>=17.3.0 in c:\\users\\hepsibtc\\anaconda3\\lib\\site-packages (from aiohttp->datasets->simpletransformers) (22.1.0)\n",
      "Requirement already satisfied: multidict<7.0,>=4.5 in c:\\users\\hepsibtc\\anaconda3\\lib\\site-packages (from aiohttp->datasets->simpletransformers) (6.0.2)\n",
      "Requirement already satisfied: async-timeout<5.0,>=4.0.0a3 in c:\\users\\hepsibtc\\anaconda3\\lib\\site-packages (from aiohttp->datasets->simpletransformers) (4.0.2)\n",
      "Requirement already satisfied: yarl<2.0,>=1.0 in c:\\users\\hepsibtc\\anaconda3\\lib\\site-packages (from aiohttp->datasets->simpletransformers) (1.8.1)\n",
      "Requirement already satisfied: frozenlist>=1.1.1 in c:\\users\\hepsibtc\\anaconda3\\lib\\site-packages (from aiohttp->datasets->simpletransformers) (1.3.3)\n",
      "Requirement already satisfied: aiosignal>=1.1.2 in c:\\users\\hepsibtc\\anaconda3\\lib\\site-packages (from aiohttp->datasets->simpletransformers) (1.2.0)\n",
      "Requirement already satisfied: gitdb<5,>=4.0.1 in c:\\users\\hepsibtc\\anaconda3\\lib\\site-packages (from gitpython!=3.1.29,>=1.0.0->wandb>=0.10.32->simpletransformers) (4.0.11)\n",
      "Requirement already satisfied: markdown-it-py>=2.2.0 in c:\\users\\hepsibtc\\anaconda3\\lib\\site-packages (from rich<14,>=10.14.0->streamlit->simpletransformers) (2.2.0)\n",
      "Requirement already satisfied: pygments<3.0.0,>=2.13.0 in c:\\users\\hepsibtc\\anaconda3\\lib\\site-packages (from rich<14,>=10.14.0->streamlit->simpletransformers) (2.15.1)\n",
      "Requirement already satisfied: MarkupSafe>=2.1.1 in c:\\users\\hepsibtc\\anaconda3\\lib\\site-packages (from werkzeug>=1.0.1->tensorboard->simpletransformers) (2.1.1)\n",
      "Requirement already satisfied: smmap<6,>=3.0.1 in c:\\users\\hepsibtc\\anaconda3\\lib\\site-packages (from gitdb<5,>=4.0.1->gitpython!=3.1.29,>=1.0.0->wandb>=0.10.32->simpletransformers) (5.0.1)\n",
      "Requirement already satisfied: pyrsistent!=0.17.0,!=0.17.1,!=0.17.2,>=0.14.0 in c:\\users\\hepsibtc\\anaconda3\\lib\\site-packages (from jsonschema>=3.0->altair<6,>=4.0->streamlit->simpletransformers) (0.18.0)\n",
      "Requirement already satisfied: mdurl~=0.1 in c:\\users\\hepsibtc\\anaconda3\\lib\\site-packages (from markdown-it-py>=2.2.0->rich<14,>=10.14.0->streamlit->simpletransformers) (0.1.0)\n"
     ]
    }
   ],
   "source": [
    "!pip install simpletransformers"
   ]
  },
  {
   "cell_type": "code",
   "execution_count": 28,
   "id": "c95f9a26",
   "metadata": {},
   "outputs": [],
   "source": [
    "from simpletransformers.classification import ClassificationModel"
   ]
  },
  {
   "cell_type": "code",
   "execution_count": 29,
   "id": "32fa18ce",
   "metadata": {},
   "outputs": [],
   "source": [
    "# bert için text sütunu string , class sütunu int olması gerekiyor\n",
    "train[\"text\"]=train[\"text\"].apply(lambda r: str(r))\n",
    "train[\"class\"]=train[\"class\"].astype(int)"
   ]
  },
  {
   "cell_type": "code",
   "execution_count": 30,
   "id": "bc5ec00b",
   "metadata": {},
   "outputs": [
    {
     "name": "stderr",
     "output_type": "stream",
     "text": [
      "Some weights of BertForSequenceClassification were not initialized from the model checkpoint at bert-base-uncased and are newly initialized: ['classifier.weight', 'classifier.bias']\n",
      "You should probably TRAIN this model on a down-stream task to be able to use it for predictions and inference.\n"
     ]
    }
   ],
   "source": [
    "#Model ayarlarının yapılması\n",
    "model=ClassificationModel('bert',\n",
    "                          'bert-base-uncased',\n",
    "                          num_labels=2,\n",
    "                          use_cuda=False,\n",
    "                         args={\n",
    "                             'reprocess_input_data':True,\n",
    "                             'overwrite_output_dir':True,\n",
    "                             'num_train_epochs':3,\n",
    "                             \"train_batch_size\":64,\n",
    "                             \"fp16\":False,\n",
    "                             \"output_dir\":\"bert_model\"})"
   ]
  },
  {
   "cell_type": "code",
   "execution_count": 31,
   "id": "fe0cc3a1",
   "metadata": {},
   "outputs": [
    {
     "name": "stderr",
     "output_type": "stream",
     "text": [
      "C:\\Users\\HepsiBTC\\anaconda3\\Lib\\site-packages\\simpletransformers\\classification\\classification_model.py:610: UserWarning: Dataframe headers not specified. Falling back to using column 0 as text and column 1 as labels.\n",
      "  warnings.warn(\n"
     ]
    },
    {
     "data": {
      "application/vnd.jupyter.widget-view+json": {
       "model_id": "b618430d82154ac2bfca6bcde6c2272a",
       "version_major": 2,
       "version_minor": 0
      },
      "text/plain": [
       "  0%|          | 0/160 [00:00<?, ?it/s]"
      ]
     },
     "metadata": {},
     "output_type": "display_data"
    },
    {
     "data": {
      "application/vnd.jupyter.widget-view+json": {
       "model_id": "fc29ae89f2574e07b3bf46a463d22b56",
       "version_major": 2,
       "version_minor": 0
      },
      "text/plain": [
       "Epoch:   0%|          | 0/3 [00:00<?, ?it/s]"
      ]
     },
     "metadata": {},
     "output_type": "display_data"
    },
    {
     "data": {
      "application/vnd.jupyter.widget-view+json": {
       "model_id": "6470d747fd1145fabe54a440c3d47c00",
       "version_major": 2,
       "version_minor": 0
      },
      "text/plain": [
       "Running Epoch 1 of 3:   0%|          | 0/1257 [00:00<?, ?it/s]"
      ]
     },
     "metadata": {},
     "output_type": "display_data"
    },
    {
     "data": {
      "application/vnd.jupyter.widget-view+json": {
       "model_id": "87513486121048fdb5439717850c6085",
       "version_major": 2,
       "version_minor": 0
      },
      "text/plain": [
       "Running Epoch 2 of 3:   0%|          | 0/1257 [00:00<?, ?it/s]"
      ]
     },
     "metadata": {},
     "output_type": "display_data"
    },
    {
     "data": {
      "application/vnd.jupyter.widget-view+json": {
       "model_id": "eb0aa83a3a3143a1b5c3d09404364713",
       "version_major": 2,
       "version_minor": 0
      },
      "text/plain": [
       "Running Epoch 3 of 3:   0%|          | 0/1257 [00:00<?, ?it/s]"
      ]
     },
     "metadata": {},
     "output_type": "display_data"
    },
    {
     "data": {
      "text/plain": [
       "(3771, 0.06598314603999979)"
      ]
     },
     "execution_count": 31,
     "metadata": {},
     "output_type": "execute_result"
    }
   ],
   "source": [
    "#Model kurulumu\n",
    "model.train_model(train)"
   ]
  },
  {
   "cell_type": "code",
   "execution_count": 32,
   "id": "7168c89e",
   "metadata": {
    "scrolled": true
   },
   "outputs": [
    {
     "name": "stderr",
     "output_type": "stream",
     "text": [
      "C:\\Users\\HepsiBTC\\anaconda3\\Lib\\site-packages\\simpletransformers\\classification\\classification_model.py:1453: UserWarning: Dataframe headers not specified. Falling back to using column 0 as text and column 1 as labels.\n",
      "  warnings.warn(\n"
     ]
    },
    {
     "data": {
      "application/vnd.jupyter.widget-view+json": {
       "model_id": "dbd9549d885d4ddebec3c449f09ecb9d",
       "version_major": 2,
       "version_minor": 0
      },
      "text/plain": [
       "  0%|          | 0/79 [00:00<?, ?it/s]"
      ]
     },
     "metadata": {},
     "output_type": "display_data"
    },
    {
     "data": {
      "application/vnd.jupyter.widget-view+json": {
       "model_id": "e543946b5f584ca096a492a5010f4fd2",
       "version_major": 2,
       "version_minor": 0
      },
      "text/plain": [
       "Running Evaluation:   0%|          | 0/396 [00:00<?, ?it/s]"
      ]
     },
     "metadata": {},
     "output_type": "display_data"
    }
   ],
   "source": [
    "result, model_outputs,wrong_predictions=model.eval_model(test)"
   ]
  },
  {
   "cell_type": "code",
   "execution_count": 33,
   "id": "5ebb3e2e",
   "metadata": {},
   "outputs": [],
   "source": [
    "predictions=model_outputs.argmax(axis=1)"
   ]
  },
  {
   "cell_type": "code",
   "execution_count": 34,
   "id": "707b122d",
   "metadata": {},
   "outputs": [],
   "source": [
    "actuals = test['class'].values"
   ]
  },
  {
   "cell_type": "code",
   "execution_count": 52,
   "id": "e4d90690",
   "metadata": {},
   "outputs": [
    {
     "data": {
      "text/plain": [
       "array([1, 1, 0, 0, 0, 1, 0, 0, 0, 1], dtype=int64)"
      ]
     },
     "execution_count": 52,
     "metadata": {},
     "output_type": "execute_result"
    }
   ],
   "source": [
    "predictions[:10]"
   ]
  },
  {
   "cell_type": "code",
   "execution_count": 36,
   "id": "7717c680",
   "metadata": {},
   "outputs": [
    {
     "data": {
      "text/plain": [
       "array([1, 1, 0, 0, 0, 1, 0, 0, 0, 1], dtype=int64)"
      ]
     },
     "execution_count": 36,
     "metadata": {},
     "output_type": "execute_result"
    }
   ],
   "source": [
    "actuals[:10]"
   ]
  },
  {
   "cell_type": "code",
   "execution_count": 37,
   "id": "9d20a262",
   "metadata": {},
   "outputs": [
    {
     "name": "stdout",
     "output_type": "stream",
     "text": [
      "Accuracy Score Sonucu: 0.9764141414141414\n",
      "Precision Score Sonucu: 0.9735511277435016\n",
      "F1 Score Sonucu: 0.9763160563951718\n",
      "Recall Score Sonucu: 0.9790967348184315\n"
     ]
    }
   ],
   "source": [
    "from sklearn.metrics import accuracy_score, precision_score, recall_score, f1_score\n",
    "print(\"Accuracy Score Sonucu:\",accuracy_score(actuals,predictions))\n",
    "print(\"Precision Score Sonucu:\",precision_score(actuals,predictions))\n",
    "print(\"F1 Score Sonucu:\",f1_score(actuals,predictions))\n",
    "print(\"Recall Score Sonucu:\",recall_score(actuals,predictions))"
   ]
  },
  {
   "cell_type": "code",
   "execution_count": 54,
   "id": "dd98d099",
   "metadata": {},
   "outputs": [],
   "source": [
    "import numpy as np\n",
    "import matplotlib.pyplot as plt\n",
    "from sklearn.metrics import roc_curve, auc\n",
    "from transformers import BertTokenizer, BertForSequenceClassification\n",
    "from transformers import pipeline\n",
    "from sklearn.model_selection import train_test_split\n",
    "from sklearn.preprocessing import label_binarize\n",
    "from sklearn.metrics import roc_auc_score"
   ]
  },
  {
   "cell_type": "code",
   "execution_count": 56,
   "id": "14915011",
   "metadata": {},
   "outputs": [
    {
     "data": {
      "image/png": "[encoded data removed]",
      "text/plain": [
       "<Figure size 640x480 with 1 Axes>"
      ]
     },
     "metadata": {},
     "output_type": "display_data"
    }
   ],
   "source": [
    "# ROC eğrisi için etiketleri binarize etme\n",
    "y_test_binarized = label_binarize(test[\"class\"], classes=[0, 1])\n",
    "\n",
    "# FPR, TPR ve eşikleri hesaplama\n",
    "fpr, tpr, _ = roc_curve(y_test_binarized, predictions)\n",
    "roc_auc = auc(fpr, tpr)\n",
    "\n",
    "# ROC eğrisini çizme\n",
    "plt.figure()\n",
    "plt.plot(fpr, tpr, color='darkorange', lw=2, label=f'ROC curve (area = {roc_auc:.2f})')\n",
    "plt.plot([0, 1], [0, 1], color='navy', lw=2, linestyle='--')\n",
    "plt.xlim([0.0, 1.0])\n",
    "plt.ylim([0.0, 1.05])\n",
    "plt.xlabel('False Positive Rate')\n",
    "plt.ylabel('True Positive Rate')\n",
    "plt.title('Receiver Operating Characteristic (ROC) Curve')\n",
    "plt.legend(loc=\"lower right\")\n",
    "plt.show()"
   ]
  },
  {
   "cell_type": "code",
   "execution_count": null,
   "id": "eeb2b23c",
   "metadata": {},
   "outputs": [],
   "source": []
  }
 ],
 "metadata": {
  "kernelspec": {
   "display_name": "Python 3 (ipykernel)",
   "language": "python",
   "name": "python3"
  },
  "language_info": {
   "codemirror_mode": {
    "name": "ipython",
    "version": 3
   },
   "file_extension": ".py",
   "mimetype": "text/x-python",
   "name": "python",
   "nbconvert_exporter": "python",
   "pygments_lexer": "ipython3",
   "version": "3.11.5"
  }
 },
 "nbformat": 4,
 "nbformat_minor": 5
}
